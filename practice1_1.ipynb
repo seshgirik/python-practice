{
 "cells": [
  {
   "cell_type": "code",
   "execution_count": 1,
   "metadata": {},
   "outputs": [
    {
     "name": "stdout",
     "output_type": "stream",
     "text": [
      "[4, 5, 6, 7, 8, 9]\n",
      "5\n",
      "7\n",
      "11\n",
      "13\n",
      "17\n",
      "19\n",
      "23\n",
      "29\n",
      "31\n",
      "37\n",
      "41\n",
      "43\n",
      "47\n",
      "53\n",
      "59\n",
      "61\n",
      "67\n",
      "71\n",
      "73\n",
      "79\n",
      "83\n",
      "89\n",
      "97\n"
     ]
    }
   ],
   "source": [
    "squares = list(filter(lambda x: x>3, range(10)))\n",
    "print (squares)\n",
    "sorted(squares,reverse=True)\n",
    "\n",
    "# Prime numbers\n",
    "for num in range(1,100):\n",
    "    flag=1\n",
    "    for i in range(2,num-1):\n",
    "        flag=0\n",
    "        if num%i==0:\n",
    "            flag=1\n",
    "            break\n",
    "       \n",
    "    if  flag==0:\n",
    "        print(num)\n",
    "    "
   ]
  },
  {
   "cell_type": "code",
   "execution_count": 2,
   "metadata": {},
   "outputs": [
    {
     "data": {
      "text/plain": [
       "[1, 2, 3, 'one']"
      ]
     },
     "execution_count": 2,
     "metadata": {},
     "output_type": "execute_result"
    }
   ],
   "source": [
    "[1,2,3]+ [ \"one\"]"
   ]
  },
  {
   "cell_type": "code",
   "execution_count": 81,
   "metadata": {},
   "outputs": [
    {
     "data": {
      "text/plain": [
       "[4, 5, 6, 8, 10, 12, 12, 15, 18]"
      ]
     },
     "execution_count": 81,
     "metadata": {},
     "output_type": "execute_result"
    }
   ],
   "source": [
    "[x*y for x in [1,2,3] for y in [4,5,6]  ]"
   ]
  },
  {
   "cell_type": "code",
   "execution_count": 82,
   "metadata": {},
   "outputs": [],
   "source": [
    "s= {1}\n",
    "L= [1]"
   ]
  },
  {
   "cell_type": "code",
   "execution_count": 105,
   "metadata": {},
   "outputs": [
    {
     "data": {
      "text/plain": [
       "[('A', 1),\n",
       " ('A', 2),\n",
       " ('A', 3),\n",
       " ('A', 4),\n",
       " ('B', 1),\n",
       " ('B', 2),\n",
       " ('B', 3),\n",
       " ('B', 4),\n",
       " ('C', 1),\n",
       " ('C', 2),\n",
       " ('C', 3),\n",
       " ('C', 4)]"
      ]
     },
     "execution_count": 105,
     "metadata": {},
     "output_type": "execute_result"
    }
   ],
   "source": [
    "list((x,y) for x in ['A','B','C'] for y in [1,2,3,4] )"
   ]
  },
  {
   "cell_type": "code",
   "execution_count": 4,
   "metadata": {},
   "outputs": [
    {
     "data": {
      "text/plain": [
       "[3, 2, 1]"
      ]
     },
     "execution_count": 4,
     "metadata": {},
     "output_type": "execute_result"
    }
   ],
   "source": [
    "s=[1,2,3,4]\n",
    "s[0]\n",
    "s[::1]\n",
    "s[::2]\n",
    "s[::-1]\n",
    "s[2::-1]"
   ]
  },
  {
   "cell_type": "code",
   "execution_count": null,
   "metadata": {},
   "outputs": [],
   "source": []
  },
  {
   "cell_type": "code",
   "execution_count": 137,
   "metadata": {},
   "outputs": [
    {
     "name": "stdout",
     "output_type": "stream",
     "text": [
      "<class 'int'>\n",
      "<class 'tuple'>\n"
     ]
    }
   ],
   "source": [
    "s=(11)\n",
    "print(type(s))\n",
    "\n",
    "s=(11,)\n",
    "print(type(s))\n"
   ]
  },
  {
   "cell_type": "code",
   "execution_count": 138,
   "metadata": {},
   "outputs": [
    {
     "data": {
      "text/plain": [
       "2"
      ]
     },
     "execution_count": 138,
     "metadata": {},
     "output_type": "execute_result"
    }
   ],
   "source": [
    "my_data4 = ((2,3,4),(1,2,\"hi\"))\n",
    "len(my_data4)\n",
    "\n"
   ]
  },
  {
   "cell_type": "code",
   "execution_count": 7,
   "metadata": {},
   "outputs": [
    {
     "name": "stdout",
     "output_type": "stream",
     "text": [
      "(2, 'hello', [2, 3, 4])\n"
     ]
    },
    {
     "data": {
      "text/plain": [
       "(2, 'hello', [2, 3, 4, 10])"
      ]
     },
     "execution_count": 7,
     "metadata": {},
     "output_type": "execute_result"
    }
   ],
   "source": [
    "t = ( 2, \"hello\" , [2,3,4])\n",
    "#t[0]=1  #fails becoz tuple can't be changed \n",
    "#t[2].update(10)# works becoz \n",
    "print (t)\n",
    "t[2].append(10)\n",
    "t"
   ]
  },
  {
   "cell_type": "code",
   "execution_count": 11,
   "metadata": {},
   "outputs": [
    {
     "name": "stdout",
     "output_type": "stream",
     "text": [
      "<built-in method values of dict object at 0x0000000005B032C8>\n",
      "{1: 2, 2: {1, 2, 3}, 3: 'hello', 4: (4, 3, 5), 5: 89.0}\n",
      "dict_items([(1, 2), (2, {1, 2, 3}), (3, 'hello'), (4, (4, 3, 5)), (5, 89.0)])\n",
      "1\n",
      "2\n",
      "2\n",
      "{1, 2, 3}\n",
      "3\n",
      "hello\n",
      "4\n",
      "(4, 3, 5)\n",
      "5\n",
      "89.0\n"
     ]
    }
   ],
   "source": [
    "mydisc={1:2, 2:{1,2,3} , 3: \"hello\" , 4:(4,3,5),5:89.0}\n",
    "mydisc.keys()\n",
    "len(mydisc)\n",
    "print (mydisc.values)\n",
    "print (mydisc)\n",
    "\n",
    "print (mydisc.items())\n",
    "\n",
    "for key,value in mydisc.items():\n",
    "    print(key)\n",
    "    print(value)"
   ]
  },
  {
   "cell_type": "code",
   "execution_count": 12,
   "metadata": {},
   "outputs": [
    {
     "ename": "TypeError",
     "evalue": "cannot convert dictionary update sequence element #0 to a sequence",
     "output_type": "error",
     "traceback": [
      "\u001b[1;31m---------------------------------------------------------------------------\u001b[0m",
      "\u001b[1;31mTypeError\u001b[0m                                 Traceback (most recent call last)",
      "\u001b[1;32m<ipython-input-12-bfeeccd463eb>\u001b[0m in \u001b[0;36m<module>\u001b[1;34m\u001b[0m\n\u001b[0;32m      3\u001b[0m \u001b[0mlist\u001b[0m\u001b[1;33m(\u001b[0m\u001b[0mset\u001b[0m\u001b[1;33m(\u001b[0m\u001b[0ml\u001b[0m\u001b[1;33m)\u001b[0m\u001b[1;33m)\u001b[0m\u001b[1;33m\u001b[0m\u001b[1;33m\u001b[0m\u001b[0m\n\u001b[0;32m      4\u001b[0m \u001b[0mtuple\u001b[0m\u001b[1;33m(\u001b[0m\u001b[0ml\u001b[0m\u001b[1;33m)\u001b[0m\u001b[1;33m\u001b[0m\u001b[1;33m\u001b[0m\u001b[0m\n\u001b[1;32m----> 5\u001b[1;33m \u001b[0mdict\u001b[0m\u001b[1;33m(\u001b[0m\u001b[0ml\u001b[0m\u001b[1;33m)\u001b[0m\u001b[1;33m\u001b[0m\u001b[1;33m\u001b[0m\u001b[0m\n\u001b[0m",
      "\u001b[1;31mTypeError\u001b[0m: cannot convert dictionary update sequence element #0 to a sequence"
     ]
    }
   ],
   "source": [
    "l = [1,2,3,4,4,4]\n",
    "set(l)\n",
    "list(set(l))\n",
    "tuple(l)\n",
    "dict(l)"
   ]
  },
  {
   "cell_type": "code",
   "execution_count": 8,
   "metadata": {},
   "outputs": [
    {
     "data": {
      "text/plain": [
       "False"
      ]
     },
     "execution_count": 8,
     "metadata": {},
     "output_type": "execute_result"
    }
   ],
   "source": [
    "bool(0)"
   ]
  },
  {
   "cell_type": "code",
   "execution_count": 23,
   "metadata": {},
   "outputs": [
    {
     "data": {
      "text/plain": [
       "[1, 4, 9, 16, 25]"
      ]
     },
     "execution_count": 23,
     "metadata": {},
     "output_type": "execute_result"
    }
   ],
   "source": [
    "list(map(lambda x:x*x,[1,2,3,4,5]))"
   ]
  },
  {
   "cell_type": "code",
   "execution_count": 25,
   "metadata": {},
   "outputs": [
    {
     "data": {
      "text/plain": [
       "[(2, 1), (1, 2), (2, 3), (4, 4), (2, 5)]"
      ]
     },
     "execution_count": 25,
     "metadata": {},
     "output_type": "execute_result"
    }
   ],
   "source": [
    "l=[(2, 5), (1, 2), (4, 4), (2, 3), (2, 1)]\n",
    "sorted(l,key=lambda x:x[1])\n"
   ]
  },
  {
   "cell_type": "code",
   "execution_count": 35,
   "metadata": {},
   "outputs": [
    {
     "data": {
      "text/plain": [
       "[(2, 1), (1, 2), (2, 3), (4, 4), (2, 5)]"
      ]
     },
     "execution_count": 35,
     "metadata": {},
     "output_type": "execute_result"
    }
   ],
   "source": [
    "import operator\n",
    "\n",
    "l=[(2, 5), (1, 2), (4, 4), (2, 3), (2, 1)]\n",
    "sorted(l,key=operator.itemgetter(0))\n",
    "sorted(l,key=operator.itemgetter(1))\n"
   ]
  },
  {
   "cell_type": "code",
   "execution_count": 51,
   "metadata": {},
   "outputs": [
    {
     "data": {
      "text/plain": [
       "[<__main__.account at 0x72e2c08>, <__main__.account at 0x72e29c8>]"
      ]
     },
     "execution_count": 51,
     "metadata": {},
     "output_type": "execute_result"
    }
   ],
   "source": [
    "import operator\n",
    "class account:\n",
    "    def __init__(self,name,no,bal):\n",
    "        self.name=name\n",
    "        self.no=no\n",
    "        self.bal=bal\n",
    "        \n",
    "    def transfer(self,account,amt):\n",
    "        self.bal=self.bal-amt\n",
    "        account.bal=account.bal+amt\n",
    "        \n",
    "ram=account('ram',95384,1000)\n",
    "ram.name\n",
    "sita=account('sita',95384,2000)\n",
    "sita.transfer(ram,1000)\n",
    "ram.bal\n",
    "sita.bal\n",
    "\n",
    "accountHolders=[ram,sita]\n",
    "sorted(accountHolders , key=operator.attrgetter('name'))\n",
    "        "
   ]
  },
  {
   "cell_type": "code",
   "execution_count": 55,
   "metadata": {},
   "outputs": [
    {
     "data": {
      "text/plain": [
       "[0, 9, 8, 7, 6, 5, 4, 3, 2, 1]"
      ]
     },
     "execution_count": 55,
     "metadata": {},
     "output_type": "execute_result"
    }
   ],
   "source": [
    "a=[1,2,3,4,5,6,7,8,9,0]\n",
    "a[::-1]\n",
    "a[::1]\n",
    "a[::-1]\n"
   ]
  },
  {
   "cell_type": "code",
   "execution_count": 58,
   "metadata": {},
   "outputs": [
    {
     "data": {
      "text/plain": [
       "'c'"
      ]
     },
     "execution_count": 58,
     "metadata": {},
     "output_type": "execute_result"
    }
   ],
   "source": [
    "x=['abc', 'xyz', 'aba', '1221']\n",
    "x[0][-1]\n"
   ]
  },
  {
   "cell_type": "code",
   "execution_count": 61,
   "metadata": {},
   "outputs": [],
   "source": [
    "import random\n",
    "random.random()\n",
    "random.shuffle(l)"
   ]
  },
  {
   "cell_type": "code",
   "execution_count": 70,
   "metadata": {},
   "outputs": [
    {
     "name": "stdout",
     "output_type": "stream",
     "text": [
      "['image00', 'welcome', 'image01', 'image10', 'image00', 'welcome', 'image01', 'image10']\n"
     ]
    }
   ],
   "source": [
    "#flatten list\n",
    "\n",
    "\n",
    "list_of_menuitems = [['image00',[[\"welcome\"]] ,'image01'], ['image10'], []]\n",
    "flat=[]\n",
    "def flatten(l):\n",
    "     for element in l:\n",
    "        if type(element)==list:\n",
    "            flatten(element)\n",
    "        else:\n",
    "            flat.append(element)\n",
    "flatten(list_of_menuitems)\n",
    "flatten(list_of_menuitems)\n",
    "\n",
    "print (flat)\n",
    "\n",
    "        "
   ]
  },
  {
   "cell_type": "code",
   "execution_count": 76,
   "metadata": {},
   "outputs": [
    {
     "name": "stdout",
     "output_type": "stream",
     "text": [
      "(1, 4)\n",
      "(2, 5)\n",
      "(3, 6)\n",
      "[]\n"
     ]
    }
   ],
   "source": [
    "x=zip([1,2,3],[4,5,6])\n",
    "for i in x:\n",
    "    print (i)\n",
    "print(list(x))"
   ]
  },
  {
   "cell_type": "code",
   "execution_count": 14,
   "metadata": {},
   "outputs": [
    {
     "name": "stdout",
     "output_type": "stream",
     "text": [
      "Help on class count in module itertools:\n",
      "\n",
      "class count(builtins.object)\n",
      " |  count(start=0, step=1) --> count object\n",
      " |  \n",
      " |  Return a count object whose .__next__() method returns consecutive values.\n",
      " |  Equivalent to:\n",
      " |  \n",
      " |      def count(firstval=0, step=1):\n",
      " |          x = firstval\n",
      " |          while 1:\n",
      " |              yield x\n",
      " |              x += step\n",
      " |  \n",
      " |  Methods defined here:\n",
      " |  \n",
      " |  __getattribute__(self, name, /)\n",
      " |      Return getattr(self, name).\n",
      " |  \n",
      " |  __iter__(self, /)\n",
      " |      Implement iter(self).\n",
      " |  \n",
      " |  __new__(*args, **kwargs) from builtins.type\n",
      " |      Create and return a new object.  See help(type) for accurate signature.\n",
      " |  \n",
      " |  __next__(self, /)\n",
      " |      Implement next(self).\n",
      " |  \n",
      " |  __reduce__(...)\n",
      " |      Return state information for pickling.\n",
      " |  \n",
      " |  __repr__(self, /)\n",
      " |      Return repr(self).\n",
      "\n"
     ]
    }
   ],
   "source": [
    "import itertools\n",
    "list1=[1,2,3,3,5,6]\n",
    "#itertools.count(list1,1)\n",
    "help(itertools.count)"
   ]
  },
  {
   "cell_type": "code",
   "execution_count": 90,
   "metadata": {},
   "outputs": [
    {
     "name": "stdout",
     "output_type": "stream",
     "text": [
      "defaultdict(<class 'list'>, {'basu': ['name', 'comapny'], 'bgl': ['area', 'area1']})\n"
     ]
    }
   ],
   "source": [
    "\n",
    "import collections\n",
    "dict= {\"name\":\"basu\" , \"comapny\":\"basu\" , \"area\":\"bgl\" , \"area1\":\"bgl\"}\n",
    "\n",
    "revdict=collections.defaultdict(list)\n",
    "\n",
    "for key,value in dict.items():\n",
    "    revdict[value].append(key)\n",
    "\n",
    "print(revdict)\n"
   ]
  },
  {
   "cell_type": "code",
   "execution_count": 19,
   "metadata": {},
   "outputs": [
    {
     "name": "stdout",
     "output_type": "stream",
     "text": [
      "defaultdict(<class 'int'>, {'basu': 2, 'bgl': 2})\n",
      "0\n",
      "2\n"
     ]
    }
   ],
   "source": [
    "\n",
    "import collections\n",
    "dict= {\"name\":\"basu\" , \"comapny\":\"basu\" , \"area\":\"bgl\" , \"area1\":\"bgl\"}\n",
    "\n",
    "revdict=collections.defaultdict(int)\n",
    "\n",
    "for key,value in dict.items():\n",
    "    revdict[value]+=1\n",
    "\n",
    "print(revdict)\n",
    "print(revdict.get('sita',0))  # default value is 0 \n",
    "print(revdict.get('basu',0))  # default value not picked since the basu has val 2\n"
   ]
  },
  {
   "cell_type": "code",
   "execution_count": 102,
   "metadata": {},
   "outputs": [
    {
     "name": "stdout",
     "output_type": "stream",
     "text": [
      "False\n",
      "True\n",
      "False\n",
      "True\n",
      "False\n",
      "False\n",
      "False\n",
      "False\n",
      "True\n"
     ]
    }
   ],
   "source": [
    "if 0:\n",
    "    print(True)\n",
    "    \n",
    "if 0:\n",
    "    print(True)\n",
    "else: \n",
    "    print(False)\n",
    "    \n",
    "if 1:\n",
    "    print(True)\n",
    "else: \n",
    "    print(False)\n",
    "    \n",
    "if None:\n",
    "    print(True)\n",
    "else: \n",
    "    print(False)\n",
    "    \n",
    "if True:\n",
    "    print(True)\n",
    "else: \n",
    "    print(False)\n",
    "    \n",
    "if []:\n",
    "    print(True)\n",
    "else: \n",
    "    print(False)\n",
    "    \n",
    "if {}:\n",
    "    print(True)\n",
    "else: \n",
    "    print(False)\n",
    "    \n",
    "if ():\n",
    "    print(True)\n",
    "else: \n",
    "    print(False)\n",
    "    \n",
    "if \"\":\n",
    "    print(True)\n",
    "else: \n",
    "    print(False)\n",
    "    \n",
    "if \"x\":\n",
    "    print(True)\n",
    "else: \n",
    "    print(False)"
   ]
  },
  {
   "cell_type": "code",
   "execution_count": 120,
   "metadata": {},
   "outputs": [
    {
     "name": "stdout",
     "output_type": "stream",
     "text": [
      "False\n"
     ]
    }
   ],
   "source": [
    "if None:\n",
    "    print(True)\n",
    "else: \n",
    "    print(False)"
   ]
  },
  {
   "cell_type": "code",
   "execution_count": 20,
   "metadata": {},
   "outputs": [],
   "source": [
    "foo=\"\"\n",
    "foo=None\n",
    "if foo:\n",
    "    print(\"foo i none\")"
   ]
  },
  {
   "cell_type": "code",
   "execution_count": 21,
   "metadata": {},
   "outputs": [
    {
     "name": "stdout",
     "output_type": "stream",
     "text": [
      "['p', 'q', 0, 1, 2, 3, 4]\n"
     ]
    }
   ],
   "source": [
    "list1=['p', 'q']\n",
    "for i in range(5):\n",
    "    list1.extend(([i]))\n",
    "print(list1)"
   ]
  },
  {
   "cell_type": "code",
   "execution_count": 26,
   "metadata": {},
   "outputs": [
    {
     "name": "stdout",
     "output_type": "stream",
     "text": [
      "['p0', 'p1', 'p2', 'p3', 'p4']\n"
     ]
    }
   ],
   "source": [
    "emp=[]\n",
    "for i in range(5):\n",
    "    x=[list1[0]+str(i)]\n",
    "    emp.extend(x)\n",
    "print(emp)"
   ]
  },
  {
   "cell_type": "code",
   "execution_count": 124,
   "metadata": {},
   "outputs": [
    {
     "data": {
      "text/plain": [
       "['welcme', 'to', 'welness', 'and', 'well']"
      ]
     },
     "execution_count": 124,
     "metadata": {},
     "output_type": "execute_result"
    }
   ],
   "source": [
    "str1=\"welcme to welness and well\"\n",
    "str1.split()"
   ]
  },
  {
   "cell_type": "code",
   "execution_count": 28,
   "metadata": {},
   "outputs": [
    {
     "name": "stdout",
     "output_type": "stream",
     "text": [
      "{'d', 'f', 'e'}\n",
      "{'b', 'c', 'h', 'a', 'g'}\n",
      "{'d', 'f', 'e'}\n",
      "{'b', 'c', 'a'}\n",
      "{'g', 'h'}\n"
     ]
    }
   ],
   "source": [
    "list1=['a','b','c','d','e','f']\n",
    "list2=['d','e','f','g','h']\n",
    "print(set(list1)&set(list2) )  \n",
    "print(set(list1)^set(list2))\n",
    "print(set(list1)&  set(list2))\n",
    "print(set(list1) - set(list2))\n",
    "print(set(list2) - set(list1))"
   ]
  },
  {
   "cell_type": "code",
   "execution_count": 30,
   "metadata": {},
   "outputs": [
    {
     "data": {
      "text/plain": [
       "'xestaxt'"
      ]
     },
     "execution_count": 30,
     "metadata": {},
     "output_type": "execute_result"
    }
   ],
   "source": [
    "\"restart\".replace('r','x')\n"
   ]
  },
  {
   "cell_type": "code",
   "execution_count": 32,
   "metadata": {},
   "outputs": [
    {
     "name": "stdout",
     "output_type": "stream",
     "text": [
      "wxexlxcxoxmxe\n"
     ]
    },
    {
     "data": {
      "text/plain": [
       "4"
      ]
     },
     "execution_count": 32,
     "metadata": {},
     "output_type": "execute_result"
    }
   ],
   "source": [
    "#\"welc3ome to python\".split().join(\"x\")\n",
    "print( \"x\".join(list(\"welcome\")))\n",
    "l=list(\"welcome\")\n",
    "l.index('o')"
   ]
  },
  {
   "cell_type": "code",
   "execution_count": 34,
   "metadata": {},
   "outputs": [
    {
     "name": "stdout",
     "output_type": "stream",
     "text": [
      "['(', '{', '(', ')', '}', ')']\n",
      "(\n",
      "0\n",
      "1\n",
      "{\n",
      "1\n",
      "0\n",
      "(\n",
      "2\n",
      "1\n",
      "matched\n",
      "['{', '(', ')', ')']\n",
      ")\n",
      "3\n"
     ]
    },
    {
     "ename": "ValueError",
     "evalue": "')' is not in list",
     "output_type": "error",
     "traceback": [
      "\u001b[1;31m---------------------------------------------------------------------------\u001b[0m",
      "\u001b[1;31mValueError\u001b[0m                                Traceback (most recent call last)",
      "\u001b[1;32m<ipython-input-34-eaaadd11cadc>\u001b[0m in \u001b[0;36m<module>\u001b[1;34m()\u001b[0m\n\u001b[0;32m     17\u001b[0m \u001b[0mparan1\u001b[0m\u001b[1;33m=\u001b[0m\u001b[0mparan\u001b[0m\u001b[1;33m\u001b[0m\u001b[0m\n\u001b[0;32m     18\u001b[0m \u001b[0mprint\u001b[0m\u001b[1;33m(\u001b[0m\u001b[0mparan\u001b[0m\u001b[1;33m)\u001b[0m\u001b[1;33m\u001b[0m\u001b[0m\n\u001b[1;32m---> 19\u001b[1;33m \u001b[0mtestParan\u001b[0m\u001b[1;33m(\u001b[0m\u001b[0mparan\u001b[0m\u001b[1;33m)\u001b[0m\u001b[1;33m\u001b[0m\u001b[0m\n\u001b[0m\u001b[0;32m     20\u001b[0m \u001b[1;33m\u001b[0m\u001b[0m\n",
      "\u001b[1;32m<ipython-input-34-eaaadd11cadc>\u001b[0m in \u001b[0;36mtestParan\u001b[1;34m(list1)\u001b[0m\n\u001b[0;32m      7\u001b[0m         \u001b[0mprint\u001b[0m\u001b[1;33m(\u001b[0m\u001b[0melement\u001b[0m\u001b[1;33m)\u001b[0m\u001b[1;33m\u001b[0m\u001b[0m\n\u001b[0;32m      8\u001b[0m         \u001b[0mprint\u001b[0m\u001b[1;33m(\u001b[0m\u001b[0mindex\u001b[0m\u001b[1;33m)\u001b[0m\u001b[1;33m\u001b[0m\u001b[0m\n\u001b[1;32m----> 9\u001b[1;33m         \u001b[0mprint\u001b[0m\u001b[1;33m(\u001b[0m\u001b[0mopen1\u001b[0m\u001b[1;33m.\u001b[0m\u001b[0mindex\u001b[0m\u001b[1;33m(\u001b[0m\u001b[0melement\u001b[0m\u001b[1;33m)\u001b[0m\u001b[1;33m)\u001b[0m\u001b[1;33m\u001b[0m\u001b[0m\n\u001b[0m\u001b[0;32m     10\u001b[0m         \u001b[1;32mif\u001b[0m \u001b[0mlist1\u001b[0m\u001b[1;33m[\u001b[0m\u001b[0mindex\u001b[0m\u001b[1;33m+\u001b[0m\u001b[1;36m1\u001b[0m\u001b[1;33m]\u001b[0m\u001b[1;33m==\u001b[0m\u001b[0mclose1\u001b[0m\u001b[1;33m[\u001b[0m\u001b[0mopen1\u001b[0m\u001b[1;33m.\u001b[0m\u001b[0mindex\u001b[0m\u001b[1;33m(\u001b[0m\u001b[0melement\u001b[0m\u001b[1;33m)\u001b[0m\u001b[1;33m]\u001b[0m\u001b[1;33m:\u001b[0m\u001b[1;33m\u001b[0m\u001b[0m\n\u001b[0;32m     11\u001b[0m             \u001b[0mprint\u001b[0m \u001b[1;33m(\u001b[0m\u001b[1;34m\"matched\"\u001b[0m\u001b[1;33m)\u001b[0m\u001b[1;33m\u001b[0m\u001b[0m\n",
      "\u001b[1;31mValueError\u001b[0m: ')' is not in list"
     ]
    }
   ],
   "source": [
    "\n",
    "def testParan(list1):\n",
    "    open1=['{','(' , '[']\n",
    "    close1=['}',')' , ']']\n",
    "\n",
    "    for index,element in enumerate(list1):\n",
    "        print(element)\n",
    "        print(index)\n",
    "        print(open1.index(element))\n",
    "        if list1[index+1]==close1[open1.index(element)]:\n",
    "            print (\"matched\")\n",
    "            paran1.remove(paran1[index])\n",
    "            paran1.remove(paran1[index+1])\n",
    "            print(paran1)\n",
    "\n",
    "paran = list(\"({()})\")\n",
    "paran1=paran\n",
    "print(paran)\n",
    "testParan(paran)\n",
    "\n",
    "\n"
   ]
  },
  {
   "cell_type": "code",
   "execution_count": null,
   "metadata": {},
   "outputs": [],
   "source": [
    "from collections import deque\n",
    "\n",
    "\n",
    "#Implementation using collections.deque Python stack can be implemented using deque class from collections module. Deque is preferred over list in the cases where we need quicker append and pop operations from both the ends of the container, as deque provides an O(1) time complexity for append and pop operations as compared to list which provides O(n) time complexity. S\n",
    "\n",
    "#stack = deque()\n",
    "stack = []\n",
    "\n",
    "\n",
    "braces = list(\"({()})()[{}\")\n",
    "\n",
    "open1=['{','(' , '[' ]\n",
    "close1=['}',')' , ']']\n",
    "#print (close1[open1.index('{')])\n",
    "#print(braces)\n",
    "\n",
    "for element in braces:\n",
    "\n",
    "    obrace=open1[close1.index(element)] if element in close1 else None\n",
    "\n",
    "    if not stack:\n",
    "        #print('1st element')\n",
    "\n",
    "        stack.append(element)\n",
    "    elif obrace==stack[-1]:\n",
    "        #print('pop')\n",
    "        print(stack.pop())  #without this print , stack in not popped so this is mandatory\n",
    "        stack.pop\n",
    "        #print(stack)\n",
    "    else:\n",
    "        stack.append(element)\n",
    "    #print(stack)\n",
    "print(stack)    \n",
    "if not stack:\n",
    "    print(\"braces are fine , matched\" )\n",
    "else:\n",
    "    print(\"invalid braces\")\n",
    "\n",
    "\n",
    "\n"
   ]
  },
  {
   "cell_type": "code",
   "execution_count": 35,
   "metadata": {},
   "outputs": [
    {
     "name": "stdout",
     "output_type": "stream",
     "text": [
      "===========\n",
      "1\n",
      "2\n",
      "3\n",
      "3\n",
      "4\n",
      "===========\n",
      "===========\n",
      "2\n",
      "3\n",
      "3\n",
      "4\n",
      "===========\n",
      "nodeis  1\n",
      "del node is \n",
      "3\n",
      "===========\n",
      "2\n",
      "3\n",
      "4\n",
      "===========\n",
      "nodeis  1\n",
      "nodeis  2\n",
      "del node is \n",
      "4\n",
      "===========\n",
      "2\n",
      "3\n",
      "===========\n",
      "after del\n",
      "3\n",
      "3\n"
     ]
    }
   ],
   "source": [
    "#linked list\n",
    "\n",
    "Head=None\n",
    "class addNode:\n",
    "    def __init__(self,data):\n",
    "        self.data=data\n",
    "        self.next=None\n",
    "       \n",
    "def insert(data,index=None):\n",
    "    global Head,prevNode\n",
    "    if Head is None:\n",
    "        Head = addNode(data)\n",
    "        prevNode=Head\n",
    "        \n",
    "    elif index is not None:\n",
    "        #print(position)\n",
    "        insertNode=Head\n",
    "        for node in range(1,index+1):\n",
    "            #print(node)\n",
    "            insertNode=insertNode.next if insertNode.next is not None else insertNode\n",
    "        curNode= addNode(data)\n",
    "        temp=insertNode.next\n",
    "        insertNode.next=curNode\n",
    "        curNode.next=temp\n",
    "        \n",
    "    else:\n",
    "        curNode= addNode(data)\n",
    "        prevNode.next=curNode\n",
    "        prevNode=curNode\n",
    "\n",
    "def delete(index=None):\n",
    "    if index is None or index==1:\n",
    "        global Head,prevNode\n",
    "        temp=Head.next\n",
    "        del Head\n",
    "        Head=temp\n",
    "    else:\n",
    "        delNode=Head\n",
    "        prevNode=delNode\n",
    "        for node in range(1,index):          \n",
    "            print (\"nodeis \" ,node)\n",
    "            prevNode=delNode\n",
    "            delNode=delNode.next if delNode.next is not None else delNode\n",
    "        temp=delNode.next \n",
    "        print (\"del node is \")\n",
    "        print(delNode.data)\n",
    "        del delNode\n",
    "        prevNode.next=temp\n",
    "\n",
    "        \n",
    "\n",
    "def travel():\n",
    "    global Head,prevNode\n",
    "    Traverse=Head\n",
    "\n",
    "    while True:\n",
    "        #print(\"travel\")\n",
    "        print(Traverse.data)\n",
    "        Traverse=Traverse.next if Traverse.next is not None else Traverse\n",
    "        if Traverse.next is None:\n",
    "            print(Traverse.data)\n",
    "            break\n",
    "    \n",
    "    \n",
    "#insert(10)\n",
    "#insert(100)\n",
    "#insert(200)\n",
    "#insert(300)\n",
    "#insert(0,0)\n",
    "#travel()\n",
    "\n",
    "insert(1,1)\n",
    "insert(2,2)\n",
    "insert(3,3)\n",
    "insert(3,3)\n",
    "\n",
    "insert(4,4)\n",
    "\n",
    "\n",
    "print(\"===========\")\n",
    "travel()\n",
    "print(\"===========\")\n",
    "\n",
    "delete(1)\n",
    "print(\"===========\")\n",
    "travel()\n",
    "print(\"===========\")\n",
    "delete(2)\n",
    "print(\"===========\")\n",
    "travel()\n",
    "print(\"===========\")\n",
    "delete(3)\n",
    "\n",
    "print(\"===========\")\n",
    "travel()\n",
    "print(\"===========\")\n",
    "delete()\n",
    "#delete()\n",
    "print(\"after del\")\n",
    "\n",
    "travel()\n",
    "#travel()\n",
    "\n",
    "     \n",
    "        "
   ]
  },
  {
   "cell_type": "code",
   "execution_count": null,
   "metadata": {},
   "outputs": [],
   "source": []
  },
  {
   "cell_type": "code",
   "execution_count": 120,
   "metadata": {},
   "outputs": [
    {
     "name": "stdout",
     "output_type": "stream",
     "text": [
      "1\n"
     ]
    }
   ],
   "source": [
    "for i in range(1,2):\n",
    "    print(i)"
   ]
  },
  {
   "cell_type": "code",
   "execution_count": 36,
   "metadata": {},
   "outputs": [
    {
     "ename": "TabError",
     "evalue": "inconsistent use of tabs and spaces in indentation (<ipython-input-36-91e1e1a802b9>, line 13)",
     "output_type": "error",
     "traceback": [
      "\u001b[1;36m  File \u001b[1;32m\"<ipython-input-36-91e1e1a802b9>\"\u001b[1;36m, line \u001b[1;32m13\u001b[0m\n\u001b[1;33m    if attempt==4:\u001b[0m\n\u001b[1;37m                  ^\u001b[0m\n\u001b[1;31mTabError\u001b[0m\u001b[1;31m:\u001b[0m inconsistent use of tabs and spaces in indentation\n"
     ]
    }
   ],
   "source": [
    "import random\n",
    "\n",
    "highest = 10\n",
    "answer = random.randint(1,highest)\n",
    "\n",
    "x = int(input(\"Enter the number btw 1 & {} : \".format(highest)))\n",
    "attempt = 0\n",
    "\n",
    "while True:\n",
    "    \n",
    "    attempt=attempt+1\n",
    "\n",
    "\tif attempt==4:\n",
    "\t\tprint(\"exceeded\")\n",
    "\t\tbreak\n",
    "        \n",
    "\telif x > answer:\n",
    "\t\tprint(\"Enter lower number\")\n",
    "\t\tattempt += 1\n",
    "\t\tx = int(input(\"Enter the number btw 1 & {} : \".format(highest)))\n",
    "\telif x < answer:\n",
    "\t\tprint(\"Enter higher number\")\n",
    "\t\tattempt += 1\n",
    "\t\tx = int(input(\"Enter the number btw 1 & {} : \".format(highest)))\n",
    "\telse:\n",
    "\t\tprint(\"Cool, you got that in {} attempt\".format(attempt))\n",
    "\t\tbreak\n",
    "\t\t"
   ]
  },
  {
   "cell_type": "markdown",
   "metadata": {},
   "source": [
    "import random\n",
    "\n",
    "highest = 3\n",
    "answer = random.randint(1,highest)\n",
    "print(\"answer is \", answer)\n",
    "\n",
    "x = int(input(\"Enter the number btw 1 & {} : \".format(highest)))\n",
    "attempt = 0\n",
    "flag=0\n",
    "while True:\n",
    "    \n",
    "    attempt=attempt+1\n",
    "    \n",
    "    if attempt==4:\n",
    "        flag=1\n",
    "        print(\"exceeded attempts\")\n",
    "        break\n",
    "        \n",
    "    elif x>answer:\n",
    "        print(\"enter lower\")\n",
    "        x=int(input(\"enter number\"))\n",
    "        \n",
    "    elif x<answer:\n",
    "        print(\"enter larger\")\n",
    "        x=int(input(\"enter number\"))\n",
    "        \n",
    "    elif x==answer:\n",
    "        print(\"got it \")\n",
    "        break\n",
    "        \n",
    "        \n",
    "\n",
    "        \n"
   ]
  },
  {
   "cell_type": "markdown",
   "metadata": {},
   "source": [
    "import random\n",
    "\n",
    "highest = 3 \n",
    "answer = random.randint(1,highest) \n",
    "print(\"answer is \", answer)\n",
    "\n",
    "x = int(input(\"Enter the number btw 1 & {} : \".format(highest))) \n",
    "attempt = 0 \n",
    "flag=0 \n",
    "\n",
    "while True:\n",
    "\n",
    "    attempt=attempt+1\n",
    "\n",
    "    if x==answer:\n",
    "        print(\"got it \")\n",
    "        break\n",
    "    elif attempt==3:\n",
    "        flag=1\n",
    "        print(\"exceeded attempts\")\n",
    "        break\n",
    "    elif x>answer:\n",
    "        print(\"enter lower\")\n",
    "        x=int(input(\"enter number\"))\n",
    "\n",
    "    elif x<answer:\n",
    "        print(\"enter larger\")\n",
    "        x=int(input(\"enter number\"))\n",
    "\n",
    "\n",
    "\n"
   ]
  },
  {
   "cell_type": "code",
   "execution_count": 19,
   "metadata": {},
   "outputs": [
    {
     "data": {
      "text/plain": [
       "False"
      ]
     },
     "execution_count": 19,
     "metadata": {},
     "output_type": "execute_result"
    }
   ],
   "source": [
    "\"welcome\".startswith(\"wel\")\n",
    "\"welcome\".find(\"lc\")\n",
    "\"welcome\".split()\n",
    "\"welcome\".upper()\n",
    "\"welcom\".endswith(\"com\")\n",
    "\"welcome\".isupper()\n",
    "\"welcome\".replace(\"el\",\"xx\")\n",
    "\"welcome\".isdigit()\n"
   ]
  },
  {
   "cell_type": "code",
   "execution_count": 45,
   "metadata": {},
   "outputs": [
    {
     "name": "stdout",
     "output_type": "stream",
     "text": [
      "welcome\n",
      "[\"Welcome\", \"to\", \"GeeksforGeeks\"]\n",
      "<class 'list'>\n",
      "[{'userId': 1, 'id': 1, 'title': 'delectus aut autem', 'completed': False}, {'userId': 1, 'id': 2, 'title': 'quis ut nam facilis et officia qui', 'completed': False}, {'userId': 1, 'id': 3, 'title': 'fugiat veniam minus', 'completed': False}, {'userId': 1, 'id': 4, 'title': 'et porro tempora', 'completed': True}, {'userId': 1, 'id': 5, 'title': 'laboriosam mollitia et enim quasi adipisci quia provident illum', 'completed': False}, {'userId': 1, 'id': 6, 'title': 'qui ullam ratione quibusdam voluptatem quia omnis', 'completed': False}, {'userId': 1, 'id': 7, 'title': 'illo expedita consequatur quia in', 'completed': False}, {'userId': 1, 'id': 8, 'title': 'quo adipisci enim quam ut ab', 'completed': True}, {'userId': 1, 'id': 9, 'title': 'molestiae perspiciatis ipsa', 'completed': False}, {'userId': 1, 'id': 10, 'title': 'illo est ratione doloremque quia maiores aut', 'completed': True}, {'userId': 1, 'id': 11, 'title': 'vero rerum temporibus dolor', 'completed': True}, {'userId': 1, 'id': 12, 'title': 'ipsa repellendus fugit nisi', 'completed': True}, {'userId': 1, 'id': 13, 'title': 'et doloremque nulla', 'completed': False}, {'userId': 1, 'id': 14, 'title': 'repellendus sunt dolores architecto voluptatum', 'completed': True}, {'userId': 1, 'id': 15, 'title': 'ab voluptatum amet voluptas', 'completed': True}, {'userId': 1, 'id': 16, 'title': 'accusamus eos facilis sint et aut voluptatem', 'completed': True}, {'userId': 1, 'id': 17, 'title': 'quo laboriosam deleniti aut qui', 'completed': True}, {'userId': 1, 'id': 18, 'title': 'dolorum est consequatur ea mollitia in culpa', 'completed': False}, {'userId': 1, 'id': 19, 'title': 'molestiae ipsa aut voluptatibus pariatur dolor nihil', 'completed': True}, {'userId': 1, 'id': 20, 'title': 'ullam nobis libero sapiente ad optio sint', 'completed': True}, {'userId': 2, 'id': 21, 'title': 'suscipit repellat esse quibusdam voluptatem incidunt', 'completed': False}, {'userId': 2, 'id': 22, 'title': 'distinctio vitae autem nihil ut molestias quo', 'completed': True}, {'userId': 2, 'id': 23, 'title': 'et itaque necessitatibus maxime molestiae qui quas velit', 'completed': False}, {'userId': 2, 'id': 24, 'title': 'adipisci non ad dicta qui amet quaerat doloribus ea', 'completed': False}, {'userId': 2, 'id': 25, 'title': 'voluptas quo tenetur perspiciatis explicabo natus', 'completed': True}, {'userId': 2, 'id': 26, 'title': 'aliquam aut quasi', 'completed': True}, {'userId': 2, 'id': 27, 'title': 'veritatis pariatur delectus', 'completed': True}, {'userId': 2, 'id': 28, 'title': 'nesciunt totam sit blanditiis sit', 'completed': False}, {'userId': 2, 'id': 29, 'title': 'laborum aut in quam', 'completed': False}, {'userId': 2, 'id': 30, 'title': 'nemo perspiciatis repellat ut dolor libero commodi blanditiis omnis', 'completed': True}, {'userId': 2, 'id': 31, 'title': 'repudiandae totam in est sint facere fuga', 'completed': False}, {'userId': 2, 'id': 32, 'title': 'earum doloribus ea doloremque quis', 'completed': False}, {'userId': 2, 'id': 33, 'title': 'sint sit aut vero', 'completed': False}, {'userId': 2, 'id': 34, 'title': 'porro aut necessitatibus eaque distinctio', 'completed': False}, {'userId': 2, 'id': 35, 'title': 'repellendus veritatis molestias dicta incidunt', 'completed': True}, {'userId': 2, 'id': 36, 'title': 'excepturi deleniti adipisci voluptatem et neque optio illum ad', 'completed': True}, {'userId': 2, 'id': 37, 'title': 'sunt cum tempora', 'completed': False}, {'userId': 2, 'id': 38, 'title': 'totam quia non', 'completed': False}, {'userId': 2, 'id': 39, 'title': 'doloremque quibusdam asperiores libero corrupti illum qui omnis', 'completed': False}, {'userId': 2, 'id': 40, 'title': 'totam atque quo nesciunt', 'completed': True}, {'userId': 3, 'id': 41, 'title': 'aliquid amet impedit consequatur aspernatur placeat eaque fugiat suscipit', 'completed': False}, {'userId': 3, 'id': 42, 'title': 'rerum perferendis error quia ut eveniet', 'completed': False}, {'userId': 3, 'id': 43, 'title': 'tempore ut sint quis recusandae', 'completed': True}, {'userId': 3, 'id': 44, 'title': 'cum debitis quis accusamus doloremque ipsa natus sapiente omnis', 'completed': True}, {'userId': 3, 'id': 45, 'title': 'velit soluta adipisci molestias reiciendis harum', 'completed': False}, {'userId': 3, 'id': 46, 'title': 'vel voluptatem repellat nihil placeat corporis', 'completed': False}, {'userId': 3, 'id': 47, 'title': 'nam qui rerum fugiat accusamus', 'completed': False}, {'userId': 3, 'id': 48, 'title': 'sit reprehenderit omnis quia', 'completed': False}, {'userId': 3, 'id': 49, 'title': 'ut necessitatibus aut maiores debitis officia blanditiis velit et', 'completed': False}, {'userId': 3, 'id': 50, 'title': 'cupiditate necessitatibus ullam aut quis dolor voluptate', 'completed': True}, {'userId': 3, 'id': 51, 'title': 'distinctio exercitationem ab doloribus', 'completed': False}, {'userId': 3, 'id': 52, 'title': 'nesciunt dolorum quis recusandae ad pariatur ratione', 'completed': False}, {'userId': 3, 'id': 53, 'title': 'qui labore est occaecati recusandae aliquid quam', 'completed': False}, {'userId': 3, 'id': 54, 'title': 'quis et est ut voluptate quam dolor', 'completed': True}, {'userId': 3, 'id': 55, 'title': 'voluptatum omnis minima qui occaecati provident nulla voluptatem ratione', 'completed': True}, {'userId': 3, 'id': 56, 'title': 'deleniti ea temporibus enim', 'completed': True}, {'userId': 3, 'id': 57, 'title': 'pariatur et magnam ea doloribus similique voluptatem rerum quia', 'completed': False}, {'userId': 3, 'id': 58, 'title': 'est dicta totam qui explicabo doloribus qui dignissimos', 'completed': False}, {'userId': 3, 'id': 59, 'title': 'perspiciatis velit id laborum placeat iusto et aliquam odio', 'completed': False}, {'userId': 3, 'id': 60, 'title': 'et sequi qui architecto ut adipisci', 'completed': True}, {'userId': 4, 'id': 61, 'title': 'odit optio omnis qui sunt', 'completed': True}, {'userId': 4, 'id': 62, 'title': 'et placeat et tempore aspernatur sint numquam', 'completed': False}, {'userId': 4, 'id': 63, 'title': 'doloremque aut dolores quidem fuga qui nulla', 'completed': True}, {'userId': 4, 'id': 64, 'title': 'voluptas consequatur qui ut quia magnam nemo esse', 'completed': False}, {'userId': 4, 'id': 65, 'title': 'fugiat pariatur ratione ut asperiores necessitatibus magni', 'completed': False}, {'userId': 4, 'id': 66, 'title': 'rerum eum molestias autem voluptatum sit optio', 'completed': False}, {'userId': 4, 'id': 67, 'title': 'quia voluptatibus voluptatem quos similique maiores repellat', 'completed': False}, {'userId': 4, 'id': 68, 'title': 'aut id perspiciatis voluptatem iusto', 'completed': False}, {'userId': 4, 'id': 69, 'title': 'doloribus sint dolorum ab adipisci itaque dignissimos aliquam suscipit', 'completed': False}, {'userId': 4, 'id': 70, 'title': 'ut sequi accusantium et mollitia delectus sunt', 'completed': False}, {'userId': 4, 'id': 71, 'title': 'aut velit saepe ullam', 'completed': False}, {'userId': 4, 'id': 72, 'title': 'praesentium facilis facere quis harum voluptatibus voluptatem eum', 'completed': False}, {'userId': 4, 'id': 73, 'title': 'sint amet quia totam corporis qui exercitationem commodi', 'completed': True}, {'userId': 4, 'id': 74, 'title': 'expedita tempore nobis eveniet laborum maiores', 'completed': False}, {'userId': 4, 'id': 75, 'title': 'occaecati adipisci est possimus totam', 'completed': False}, {'userId': 4, 'id': 76, 'title': 'sequi dolorem sed', 'completed': True}, {'userId': 4, 'id': 77, 'title': 'maiores aut nesciunt delectus exercitationem vel assumenda eligendi at', 'completed': False}, {'userId': 4, 'id': 78, 'title': 'reiciendis est magnam amet nemo iste recusandae impedit quaerat', 'completed': False}, {'userId': 4, 'id': 79, 'title': 'eum ipsa maxime ut', 'completed': True}, {'userId': 4, 'id': 80, 'title': 'tempore molestias dolores rerum sequi voluptates ipsum consequatur', 'completed': True}, {'userId': 5, 'id': 81, 'title': 'suscipit qui totam', 'completed': True}, {'userId': 5, 'id': 82, 'title': 'voluptates eum voluptas et dicta', 'completed': False}, {'userId': 5, 'id': 83, 'title': 'quidem at rerum quis ex aut sit quam', 'completed': True}, {'userId': 5, 'id': 84, 'title': 'sunt veritatis ut voluptate', 'completed': False}, {'userId': 5, 'id': 85, 'title': 'et quia ad iste a', 'completed': True}, {'userId': 5, 'id': 86, 'title': 'incidunt ut saepe autem', 'completed': True}, {'userId': 5, 'id': 87, 'title': 'laudantium quae eligendi consequatur quia et vero autem', 'completed': True}, {'userId': 5, 'id': 88, 'title': 'vitae aut excepturi laboriosam sint aliquam et et accusantium', 'completed': False}, {'userId': 5, 'id': 89, 'title': 'sequi ut omnis et', 'completed': True}, {'userId': 5, 'id': 90, 'title': 'molestiae nisi accusantium tenetur dolorem et', 'completed': True}, {'userId': 5, 'id': 91, 'title': 'nulla quis consequatur saepe qui id expedita', 'completed': True}, {'userId': 5, 'id': 92, 'title': 'in omnis laboriosam', 'completed': True}, {'userId': 5, 'id': 93, 'title': 'odio iure consequatur molestiae quibusdam necessitatibus quia sint', 'completed': True}, {'userId': 5, 'id': 94, 'title': 'facilis modi saepe mollitia', 'completed': False}, {'userId': 5, 'id': 95, 'title': 'vel nihil et molestiae iusto assumenda nemo quo ut', 'completed': True}, {'userId': 5, 'id': 96, 'title': 'nobis suscipit ducimus enim asperiores voluptas', 'completed': False}, {'userId': 5, 'id': 97, 'title': 'dolorum laboriosam eos qui iure aliquam', 'completed': False}, {'userId': 5, 'id': 98, 'title': 'debitis accusantium ut quo facilis nihil quis sapiente necessitatibus', 'completed': True}, {'userId': 5, 'id': 99, 'title': 'neque voluptates ratione', 'completed': False}, {'userId': 5, 'id': 100, 'title': 'excepturi a et neque qui expedita vel voluptate', 'completed': False}, {'userId': 6, 'id': 101, 'title': 'explicabo enim cumque porro aperiam occaecati minima', 'completed': False}, {'userId': 6, 'id': 102, 'title': 'sed ab consequatur', 'completed': False}, {'userId': 6, 'id': 103, 'title': 'non sunt delectus illo nulla tenetur enim omnis', 'completed': False}, {'userId': 6, 'id': 104, 'title': 'excepturi non laudantium quo', 'completed': False}, {'userId': 6, 'id': 105, 'title': 'totam quia dolorem et illum repellat voluptas optio', 'completed': True}, {'userId': 6, 'id': 106, 'title': 'ad illo quis voluptatem temporibus', 'completed': True}, {'userId': 6, 'id': 107, 'title': 'praesentium facilis omnis laudantium fugit ad iusto nihil nesciunt', 'completed': False}, {'userId': 6, 'id': 108, 'title': 'a eos eaque nihil et exercitationem incidunt delectus', 'completed': True}, {'userId': 6, 'id': 109, 'title': 'autem temporibus harum quisquam in culpa', 'completed': True}, {'userId': 6, 'id': 110, 'title': 'aut aut ea corporis', 'completed': True}, {'userId': 6, 'id': 111, 'title': 'magni accusantium labore et id quis provident', 'completed': False}, {'userId': 6, 'id': 112, 'title': 'consectetur impedit quisquam qui deserunt non rerum consequuntur eius', 'completed': False}, {'userId': 6, 'id': 113, 'title': 'quia atque aliquam sunt impedit voluptatum rerum assumenda nisi', 'completed': False}, {'userId': 6, 'id': 114, 'title': 'cupiditate quos possimus corporis quisquam exercitationem beatae', 'completed': False}, {'userId': 6, 'id': 115, 'title': 'sed et ea eum', 'completed': False}, {'userId': 6, 'id': 116, 'title': 'ipsa dolores vel facilis ut', 'completed': True}, {'userId': 6, 'id': 117, 'title': 'sequi quae est et qui qui eveniet asperiores', 'completed': False}, {'userId': 6, 'id': 118, 'title': 'quia modi consequatur vero fugiat', 'completed': False}, {'userId': 6, 'id': 119, 'title': 'corporis ducimus ea perspiciatis iste', 'completed': False}, {'userId': 6, 'id': 120, 'title': 'dolorem laboriosam vel voluptas et aliquam quasi', 'completed': False}, {'userId': 7, 'id': 121, 'title': 'inventore aut nihil minima laudantium hic qui omnis', 'completed': True}, {'userId': 7, 'id': 122, 'title': 'provident aut nobis culpa', 'completed': True}, {'userId': 7, 'id': 123, 'title': 'esse et quis iste est earum aut impedit', 'completed': False}, {'userId': 7, 'id': 124, 'title': 'qui consectetur id', 'completed': False}, {'userId': 7, 'id': 125, 'title': 'aut quasi autem iste tempore illum possimus', 'completed': False}, {'userId': 7, 'id': 126, 'title': 'ut asperiores perspiciatis veniam ipsum rerum saepe', 'completed': True}, {'userId': 7, 'id': 127, 'title': 'voluptatem libero consectetur rerum ut', 'completed': True}, {'userId': 7, 'id': 128, 'title': 'eius omnis est qui voluptatem autem', 'completed': False}, {'userId': 7, 'id': 129, 'title': 'rerum culpa quis harum', 'completed': False}, {'userId': 7, 'id': 130, 'title': 'nulla aliquid eveniet harum laborum libero alias ut unde', 'completed': True}, {'userId': 7, 'id': 131, 'title': 'qui ea incidunt quis', 'completed': False}, {'userId': 7, 'id': 132, 'title': 'qui molestiae voluptatibus velit iure harum quisquam', 'completed': True}, {'userId': 7, 'id': 133, 'title': 'et labore eos enim rerum consequatur sunt', 'completed': True}, {'userId': 7, 'id': 134, 'title': 'molestiae doloribus et laborum quod ea', 'completed': False}, {'userId': 7, 'id': 135, 'title': 'facere ipsa nam eum voluptates reiciendis vero qui', 'completed': False}, {'userId': 7, 'id': 136, 'title': 'asperiores illo tempora fuga sed ut quasi adipisci', 'completed': False}, {'userId': 7, 'id': 137, 'title': 'qui sit non', 'completed': False}, {'userId': 7, 'id': 138, 'title': 'placeat minima consequatur rem qui ut', 'completed': True}, {'userId': 7, 'id': 139, 'title': 'consequatur doloribus id possimus voluptas a voluptatem', 'completed': False}, {'userId': 7, 'id': 140, 'title': 'aut consectetur in blanditiis deserunt quia sed laboriosam', 'completed': True}, {'userId': 8, 'id': 141, 'title': 'explicabo consectetur debitis voluptates quas quae culpa rerum non', 'completed': True}, {'userId': 8, 'id': 142, 'title': 'maiores accusantium architecto necessitatibus reiciendis ea aut', 'completed': True}, {'userId': 8, 'id': 143, 'title': 'eum non recusandae cupiditate animi', 'completed': False}, {'userId': 8, 'id': 144, 'title': 'ut eum exercitationem sint', 'completed': False}, {'userId': 8, 'id': 145, 'title': 'beatae qui ullam incidunt voluptatem non nisi aliquam', 'completed': False}, {'userId': 8, 'id': 146, 'title': 'molestiae suscipit ratione nihil odio libero impedit vero totam', 'completed': True}, {'userId': 8, 'id': 147, 'title': 'eum itaque quod reprehenderit et facilis dolor autem ut', 'completed': True}, {'userId': 8, 'id': 148, 'title': 'esse quas et quo quasi exercitationem', 'completed': False}, {'userId': 8, 'id': 149, 'title': 'animi voluptas quod perferendis est', 'completed': False}, {'userId': 8, 'id': 150, 'title': 'eos amet tempore laudantium fugit a', 'completed': False}, {'userId': 8, 'id': 151, 'title': 'accusamus adipisci dicta qui quo ea explicabo sed vero', 'completed': True}, {'userId': 8, 'id': 152, 'title': 'odit eligendi recusandae doloremque cumque non', 'completed': False}, {'userId': 8, 'id': 153, 'title': 'ea aperiam consequatur qui repellat eos', 'completed': False}, {'userId': 8, 'id': 154, 'title': 'rerum non ex sapiente', 'completed': True}, {'userId': 8, 'id': 155, 'title': 'voluptatem nobis consequatur et assumenda magnam', 'completed': True}, {'userId': 8, 'id': 156, 'title': 'nam quia quia nulla repellat assumenda quibusdam sit nobis', 'completed': True}, {'userId': 8, 'id': 157, 'title': 'dolorem veniam quisquam deserunt repellendus', 'completed': True}, {'userId': 8, 'id': 158, 'title': 'debitis vitae delectus et harum accusamus aut deleniti a', 'completed': True}, {'userId': 8, 'id': 159, 'title': 'debitis adipisci quibusdam aliquam sed dolore ea praesentium nobis', 'completed': True}, {'userId': 8, 'id': 160, 'title': 'et praesentium aliquam est', 'completed': False}, {'userId': 9, 'id': 161, 'title': 'ex hic consequuntur earum omnis alias ut occaecati culpa', 'completed': True}, {'userId': 9, 'id': 162, 'title': 'omnis laboriosam molestias animi sunt dolore', 'completed': True}, {'userId': 9, 'id': 163, 'title': 'natus corrupti maxime laudantium et voluptatem laboriosam odit', 'completed': False}, {'userId': 9, 'id': 164, 'title': 'reprehenderit quos aut aut consequatur est sed', 'completed': False}, {'userId': 9, 'id': 165, 'title': 'fugiat perferendis sed aut quidem', 'completed': False}, {'userId': 9, 'id': 166, 'title': 'quos quo possimus suscipit minima ut', 'completed': False}, {'userId': 9, 'id': 167, 'title': 'et quis minus quo a asperiores molestiae', 'completed': False}, {'userId': 9, 'id': 168, 'title': 'recusandae quia qui sunt libero', 'completed': False}, {'userId': 9, 'id': 169, 'title': 'ea odio perferendis officiis', 'completed': True}, {'userId': 9, 'id': 170, 'title': 'quisquam aliquam quia doloribus aut', 'completed': False}, {'userId': 9, 'id': 171, 'title': 'fugiat aut voluptatibus corrupti deleniti velit iste odio', 'completed': True}, {'userId': 9, 'id': 172, 'title': 'et provident amet rerum consectetur et voluptatum', 'completed': False}, {'userId': 9, 'id': 173, 'title': 'harum ad aperiam quis', 'completed': False}, {'userId': 9, 'id': 174, 'title': 'similique aut quo', 'completed': False}, {'userId': 9, 'id': 175, 'title': 'laudantium eius officia perferendis provident perspiciatis asperiores', 'completed': True}, {'userId': 9, 'id': 176, 'title': 'magni soluta corrupti ut maiores rem quidem', 'completed': False}, {'userId': 9, 'id': 177, 'title': 'et placeat temporibus voluptas est tempora quos quibusdam', 'completed': False}, {'userId': 9, 'id': 178, 'title': 'nesciunt itaque commodi tempore', 'completed': True}, {'userId': 9, 'id': 179, 'title': 'omnis consequuntur cupiditate impedit itaque ipsam quo', 'completed': True}, {'userId': 9, 'id': 180, 'title': 'debitis nisi et dolorem repellat et', 'completed': True}, {'userId': 10, 'id': 181, 'title': 'ut cupiditate sequi aliquam fuga maiores', 'completed': False}, {'userId': 10, 'id': 182, 'title': 'inventore saepe cumque et aut illum enim', 'completed': True}, {'userId': 10, 'id': 183, 'title': 'omnis nulla eum aliquam distinctio', 'completed': True}, {'userId': 10, 'id': 184, 'title': 'molestias modi perferendis perspiciatis', 'completed': False}, {'userId': 10, 'id': 185, 'title': 'voluptates dignissimos sed doloribus animi quaerat aut', 'completed': False}, {'userId': 10, 'id': 186, 'title': 'explicabo odio est et', 'completed': False}, {'userId': 10, 'id': 187, 'title': 'consequuntur animi possimus', 'completed': False}, {'userId': 10, 'id': 188, 'title': 'vel non beatae est', 'completed': True}, {'userId': 10, 'id': 189, 'title': 'culpa eius et voluptatem et', 'completed': True}, {'userId': 10, 'id': 190, 'title': 'accusamus sint iusto et voluptatem exercitationem', 'completed': True}, {'userId': 10, 'id': 191, 'title': 'temporibus atque distinctio omnis eius impedit tempore molestias pariatur', 'completed': True}, {'userId': 10, 'id': 192, 'title': 'ut quas possimus exercitationem sint voluptates', 'completed': False}, {'userId': 10, 'id': 193, 'title': 'rerum debitis voluptatem qui eveniet tempora distinctio a', 'completed': True}, {'userId': 10, 'id': 194, 'title': 'sed ut vero sit molestiae', 'completed': False}, {'userId': 10, 'id': 195, 'title': 'rerum ex veniam mollitia voluptatibus pariatur', 'completed': True}, {'userId': 10, 'id': 196, 'title': 'consequuntur aut ut fugit similique', 'completed': True}, {'userId': 10, 'id': 197, 'title': 'dignissimos quo nobis earum saepe', 'completed': True}, {'userId': 10, 'id': 198, 'title': 'quis eius est sint explicabo', 'completed': True}, {'userId': 10, 'id': 199, 'title': 'numquam repellendus a magnam', 'completed': True}, {'userId': 10, 'id': 200, 'title': 'ipsam aperiam voluptates qui', 'completed': False}]\n",
      "1\n",
      "\n",
      "\n",
      "2\n",
      "\n",
      "\n",
      "3\n",
      "\n",
      "\n",
      "4\n",
      "\n",
      "\n",
      "5\n",
      "\n",
      "\n",
      "6\n",
      "\n",
      "\n",
      "7\n",
      "\n",
      "\n",
      "8\n",
      "\n",
      "\n",
      "9\n",
      "\n",
      "\n",
      "10\n",
      "\n",
      "\n",
      "11\n",
      "\n",
      "\n",
      "12\n",
      "\n",
      "\n",
      "13\n",
      "\n",
      "\n",
      "14\n",
      "\n",
      "\n",
      "15\n",
      "\n",
      "\n",
      "16\n",
      "\n",
      "\n",
      "17\n",
      "\n",
      "\n",
      "18\n",
      "\n",
      "\n",
      "19\n",
      "\n",
      "\n",
      "20\n",
      "\n",
      "\n",
      "21\n",
      "\n",
      "\n",
      "22\n",
      "\n",
      "\n",
      "23\n",
      "\n",
      "\n",
      "24\n",
      "\n",
      "\n",
      "25\n",
      "\n",
      "\n",
      "26\n",
      "\n",
      "\n",
      "27\n",
      "\n",
      "\n",
      "28\n",
      "\n",
      "\n",
      "29\n",
      "\n",
      "\n",
      "30\n",
      "\n",
      "\n",
      "31\n",
      "\n",
      "\n",
      "32\n",
      "\n",
      "\n",
      "33\n",
      "\n",
      "\n",
      "34\n",
      "\n",
      "\n",
      "35\n",
      "\n",
      "\n",
      "36\n",
      "\n",
      "\n",
      "37\n",
      "\n",
      "\n",
      "38\n",
      "\n",
      "\n",
      "39\n",
      "\n",
      "\n",
      "40\n",
      "\n",
      "\n",
      "41\n",
      "\n",
      "\n",
      "42\n",
      "\n",
      "\n",
      "43\n",
      "\n",
      "\n",
      "44\n",
      "\n",
      "\n",
      "45\n",
      "\n",
      "\n",
      "46\n",
      "\n",
      "\n",
      "47\n",
      "\n",
      "\n",
      "48\n",
      "\n",
      "\n",
      "49\n",
      "\n",
      "\n",
      "50\n",
      "\n",
      "\n",
      "51\n",
      "\n",
      "\n",
      "52\n",
      "\n",
      "\n",
      "53\n",
      "\n",
      "\n",
      "54\n",
      "\n",
      "\n",
      "55\n",
      "\n",
      "\n",
      "56\n",
      "\n",
      "\n",
      "57\n",
      "\n",
      "\n",
      "58\n",
      "\n",
      "\n",
      "59\n",
      "\n",
      "\n",
      "60\n",
      "\n",
      "\n",
      "61\n",
      "\n",
      "\n",
      "62\n",
      "\n",
      "\n",
      "63\n",
      "\n",
      "\n",
      "64\n",
      "\n",
      "\n",
      "65\n",
      "\n",
      "\n",
      "66\n",
      "\n",
      "\n",
      "67\n",
      "\n",
      "\n",
      "68\n",
      "\n",
      "\n",
      "69\n",
      "\n",
      "\n",
      "70\n",
      "\n",
      "\n",
      "71\n",
      "\n",
      "\n",
      "72\n",
      "\n",
      "\n",
      "73\n",
      "\n",
      "\n",
      "74\n",
      "\n",
      "\n",
      "75\n",
      "\n",
      "\n",
      "76\n",
      "\n",
      "\n",
      "77\n",
      "\n",
      "\n",
      "78\n",
      "\n",
      "\n",
      "79\n",
      "\n",
      "\n",
      "80\n",
      "\n",
      "\n",
      "81\n",
      "\n",
      "\n",
      "82\n",
      "\n",
      "\n",
      "83\n",
      "\n",
      "\n",
      "84\n",
      "\n",
      "\n",
      "85\n",
      "\n",
      "\n",
      "86\n",
      "\n",
      "\n",
      "87\n",
      "\n",
      "\n",
      "88\n",
      "\n",
      "\n",
      "89\n",
      "\n",
      "\n",
      "90\n",
      "\n",
      "\n",
      "91\n",
      "\n",
      "\n",
      "92\n",
      "\n",
      "\n",
      "93\n",
      "\n",
      "\n",
      "94\n",
      "\n",
      "\n",
      "95\n",
      "\n",
      "\n",
      "96\n",
      "\n",
      "\n",
      "97\n",
      "\n",
      "\n",
      "98\n",
      "\n",
      "\n",
      "99\n",
      "\n",
      "\n",
      "100\n",
      "\n",
      "\n",
      "101\n",
      "\n",
      "\n",
      "102\n",
      "\n",
      "\n",
      "103\n",
      "\n",
      "\n",
      "104\n",
      "\n",
      "\n",
      "105\n",
      "\n",
      "\n",
      "106\n",
      "\n",
      "\n",
      "107\n",
      "\n",
      "\n",
      "108\n",
      "\n",
      "\n",
      "109\n",
      "\n",
      "\n",
      "110\n",
      "\n",
      "\n",
      "111\n",
      "\n",
      "\n",
      "112\n",
      "\n",
      "\n",
      "113\n",
      "\n",
      "\n",
      "114\n",
      "\n",
      "\n",
      "115\n",
      "\n",
      "\n",
      "116\n",
      "\n",
      "\n",
      "117\n",
      "\n",
      "\n",
      "118\n",
      "\n",
      "\n",
      "119\n",
      "\n",
      "\n",
      "120\n",
      "\n",
      "\n",
      "121\n",
      "\n",
      "\n",
      "122\n",
      "\n",
      "\n",
      "123\n",
      "\n",
      "\n",
      "124\n",
      "\n",
      "\n",
      "125\n",
      "\n",
      "\n",
      "126\n",
      "\n",
      "\n",
      "127\n",
      "\n",
      "\n",
      "128\n",
      "\n",
      "\n",
      "129\n",
      "\n",
      "\n",
      "130\n",
      "\n",
      "\n",
      "131\n",
      "\n",
      "\n",
      "132\n",
      "\n",
      "\n",
      "133\n",
      "\n",
      "\n",
      "134\n",
      "\n",
      "\n",
      "135\n",
      "\n",
      "\n",
      "136\n",
      "\n",
      "\n",
      "137\n",
      "\n",
      "\n",
      "138\n",
      "\n",
      "\n",
      "139\n",
      "\n",
      "\n",
      "140\n",
      "\n",
      "\n",
      "141\n",
      "\n",
      "\n",
      "142\n",
      "\n",
      "\n",
      "143\n",
      "\n",
      "\n",
      "144\n",
      "\n",
      "\n",
      "145\n",
      "\n",
      "\n",
      "146\n",
      "\n",
      "\n",
      "147\n",
      "\n",
      "\n",
      "148\n",
      "\n",
      "\n",
      "149\n",
      "\n",
      "\n",
      "150\n",
      "\n",
      "\n",
      "151\n",
      "\n",
      "\n",
      "152\n",
      "\n",
      "\n",
      "153\n",
      "\n",
      "\n",
      "154\n",
      "\n",
      "\n",
      "155\n",
      "\n",
      "\n",
      "156\n",
      "\n",
      "\n",
      "157\n",
      "\n",
      "\n",
      "158\n",
      "\n",
      "\n",
      "159\n",
      "\n",
      "\n",
      "160\n",
      "\n",
      "\n",
      "161\n",
      "\n",
      "\n",
      "162\n",
      "\n",
      "\n",
      "163\n",
      "\n",
      "\n",
      "164\n",
      "\n",
      "\n",
      "165\n",
      "\n",
      "\n",
      "166\n",
      "\n",
      "\n",
      "167\n",
      "\n",
      "\n",
      "168\n",
      "\n",
      "\n",
      "169\n",
      "\n",
      "\n",
      "170\n",
      "\n",
      "\n",
      "171\n",
      "\n",
      "\n",
      "172\n",
      "\n",
      "\n",
      "173\n",
      "\n",
      "\n",
      "174\n",
      "\n",
      "\n",
      "175\n",
      "\n",
      "\n",
      "176\n",
      "\n",
      "\n",
      "177\n",
      "\n",
      "\n",
      "178\n",
      "\n",
      "\n",
      "179\n",
      "\n",
      "\n",
      "180\n",
      "\n",
      "\n",
      "181\n",
      "\n",
      "\n",
      "182\n",
      "\n",
      "\n",
      "183\n",
      "\n",
      "\n",
      "184\n",
      "\n",
      "\n",
      "185\n",
      "\n",
      "\n",
      "186\n",
      "\n",
      "\n",
      "187\n",
      "\n",
      "\n",
      "188\n",
      "\n",
      "\n",
      "189\n",
      "\n",
      "\n",
      "190\n",
      "\n",
      "\n",
      "191\n",
      "\n",
      "\n",
      "192\n",
      "\n",
      "\n",
      "193\n",
      "\n",
      "\n",
      "194\n",
      "\n",
      "\n",
      "195\n",
      "\n",
      "\n",
      "196\n",
      "\n",
      "\n",
      "197\n",
      "\n",
      "\n",
      "198\n",
      "\n",
      "\n",
      "199\n",
      "\n",
      "\n",
      "200\n",
      "\n",
      "\n"
     ]
    }
   ],
   "source": [
    "import json\n",
    "import requests\n",
    "\n",
    "print(\"welcome\")\n",
    "print(json.dumps(['Welcome', \"to\", \"GeeksforGeeks\"])) \n",
    "\n",
    "with open(\"getJson.json\", \"r\") as read_it: \n",
    "#with open(\"getPermission.json\", \"r\") as read_it: \n",
    "\n",
    "     data = json.load(read_it) \n",
    "#print(data)\n",
    "\n",
    "brdata= requests.get(\"https://jsonplaceholder.typicode.com/todos\")\n",
    "data=json.loads(brdata.text)\n",
    "print(type(data))\n",
    "print(data)\n",
    "for element in data:\n",
    "    print((element['id']))\n",
    "    del element['id']\n",
    "    print(\"\\n\")\n",
    "    \n",
    "with open(\"write.json\", \"w\") as write: \n",
    "#with open(\"getPermission.json\", \"r\") as read_it: \n",
    "\n",
    "     dataw = json.dumps(data,indent=2) \n",
    "     write.write(dataw)\n",
    "#print(data)\n"
   ]
  },
  {
   "cell_type": "code",
   "execution_count": 49,
   "metadata": {},
   "outputs": [
    {
     "data": {
      "text/plain": [
       "'{\"foo\": 3}'"
      ]
     },
     "execution_count": 49,
     "metadata": {},
     "output_type": "execute_result"
    }
   ],
   "source": [
    "import json\n",
    "import requests\n",
    "\n",
    "jsonobj={'foo':3}\n",
    "json.dumps(jsonobj)"
   ]
  },
  {
   "cell_type": "code",
   "execution_count": 3,
   "metadata": {},
   "outputs": [
    {
     "name": "stdout",
     "output_type": "stream",
     "text": [
      "30\n",
      "40\n"
     ]
    }
   ],
   "source": [
    "#python closures\n",
    "\n",
    "def multiple(x):\n",
    "    def multi(y):\n",
    "        return x*y\n",
    "    return multi\n",
    "\n",
    "multi3=multiple(3)\n",
    "\n",
    "print (multi3(10))\n",
    "multi4=multiple(4)\n",
    "\n",
    "print (multi4(10))"
   ]
  },
  {
   "cell_type": "code",
   "execution_count": 42,
   "metadata": {},
   "outputs": [],
   "source": [
    "import logging\n",
    "logging.basicConfig(filename='example.log',level=logging.INFO)\n",
    "\n",
    "logging.warning('Watch out!')  # will print a message to the console\n",
    "logging.error('error!')  # will print a message to the console\n",
    "logging.critical('error!')  # will print a message to the console\n",
    "logging.info('I told you so')  # will not print anything"
   ]
  },
  {
   "cell_type": "code",
   "execution_count": 21,
   "metadata": {},
   "outputs": [
    {
     "name": "stdout",
     "output_type": "stream",
     "text": [
      "20200130160852\n",
      "file.txt\n"
     ]
    }
   ],
   "source": [
    "import os,logging,random,datetime,sys\n",
    "currTime = datetime.datetime.today().strftime(\"%Y%m%d%H%M%S\")\n",
    "print(currTime)\n",
    "\n",
    "path = '/home/User/Documents/file.txt'\n",
    "\n",
    "basename = os.path.basename(path) \n",
    "  \n",
    "# Print the basename name   \n",
    "print(basename)"
   ]
  },
  {
   "cell_type": "code",
   "execution_count": 33,
   "metadata": {},
   "outputs": [
    {
     "name": "stdout",
     "output_type": "stream",
     "text": [
      "I love Geeksforgeeks\n",
      "Me too.\n",
      "Me too.\n"
     ]
    }
   ],
   "source": [
    "def f(): \n",
    "    #global s\n",
    "\tglobal s ; print(s)\n",
    "\n",
    "\t# This program will NOT show error \n",
    "\t# if we comment below line. \n",
    "\ts = \"Me too.\"\n",
    "\n",
    "\tprint (s)\n",
    "\n",
    "# Global scope \n",
    "s = \"I love Geeksforgeeks\"\n",
    "f() \n",
    "print (s)\n"
   ]
  },
  {
   "cell_type": "code",
   "execution_count": 36,
   "metadata": {},
   "outputs": [
    {
     "name": "stdout",
     "output_type": "stream",
     "text": [
      "res is 4096\n",
      "sqrt res is 10.0\n",
      "exection time is 0.0\n"
     ]
    }
   ],
   "source": [
    "import threading as th\n",
    "import math\n",
    "import time\n",
    "\n",
    "def computeExponetnValue(x,y):\n",
    "    res=pow(x,y)\n",
    "    print(\"res is {}\".format(res))\n",
    "\n",
    "def sqrt(x):\n",
    "    res=math.sqrt(x)\n",
    "    print(\"sqrt res is {}\".format(res))\n",
    "    \n",
    "if __name__ == \"__main__\":\n",
    "    start_time=time.time()\n",
    "    computeExponetnValue(4,6)\n",
    "    sqrt(100)\n",
    "    end_time=time.time()\n",
    "    print(\"exection time is {}\".format(end_time-start_time))"
   ]
  },
  {
   "cell_type": "code",
   "execution_count": 43,
   "metadata": {},
   "outputs": [
    {
     "name": "stdout",
     "output_type": "stream",
     "text": [
      "Barking\n",
      "Chirping\n",
      "Barking\n"
     ]
    }
   ],
   "source": [
    "class Dog(object):\n",
    "    def sound(self):\n",
    "        print(\"Barking\")\n",
    "\n",
    "class Bird(object):\n",
    "    def sound(self):\n",
    "        print(\"Chirping\")\n",
    "\n",
    "\n",
    "def makeSound(obj):\n",
    "    obj.sound()\n",
    "\n",
    "if __name__ == \"__main__\":\n",
    "    d = Dog()\n",
    "    b = Bird()\n",
    "    makeSound(d)\n",
    "    makeSound(b)\n",
    "    d.sound()"
   ]
  },
  {
   "cell_type": "code",
   "execution_count": 55,
   "metadata": {},
   "outputs": [
    {
     "name": "stdout",
     "output_type": "stream",
     "text": [
      "I love Geeks for \"Geeks!\"\n",
      "I love welcome for! \"welcome!\"\n",
      "welcome welcome !to welcome\n"
     ]
    }
   ],
   "source": [
    "print('I love {} for \"{}!\"'.format('Geeks', 'Geeks')) \n",
    "\n",
    "name=\"welcome\"\n",
    "\n",
    "print('I love {} for! \"{}!\"'.format(name, name)) \n",
    "\n",
    "\n",
    "print('welcome {} !to {}' .format(name,name))\n"
   ]
  },
  {
   "cell_type": "code",
   "execution_count": 44,
   "metadata": {},
   "outputs": [
    {
     "name": "stdout",
     "output_type": "stream",
     "text": [
      "Block_99\n",
      "-------------------------\n",
      "20\n",
      "-------------------------\n",
      "cls ::! <class '__main__.StorageArray'>\n",
      "dir(cls) :: ['__class__', '__delattr__', '__dict__', '__dir__', '__doc__', '__eq__', '__format__', '__ge__', '__getattribute__', '__gt__', '__hash__', '__init__', '__init_subclass__', '__le__', '__lt__', '__module__', '__ne__', '__new__', '__reduce__', '__reduce_ex__', '__repr__', '__setattr__', '__sizeof__', '__str__', '__subclasshook__', '__weakref__', 'getLun', 'getSuffixForLun', 'updateVersion', 'vendor']\n",
      "\n"
     ]
    }
   ],
   "source": [
    "class StorageArray(object):\n",
    "    vendor = \"\"\n",
    "    def __init__(self, v, c):\n",
    "        self.version = v\n",
    "        self.type = c\n",
    "\n",
    "    def getLun(self, lun_no):\n",
    "        l = \"{}_{}\".format(self.type, lun_no)\n",
    "        return l\n",
    "\n",
    "    @staticmethod\n",
    "    def getSuffixForLun(p):\n",
    "        return p*2\n",
    "\n",
    "    @classmethod\n",
    "    def updateVersion(cls):\n",
    "        print(\"cls ::! {}\".format(cls))\n",
    "        print(\"dir(cls) ::\", dir(cls))\n",
    "        print(cls.vendor)\n",
    "\n",
    "if __name__ ==\"__main__\":\n",
    "    obj = StorageArray(\"12.01\", \"Block\")\n",
    "    print(obj.getLun(99))\n",
    "    print(\"-------------------------\")\n",
    "    print(obj.getSuffixForLun(10))\n",
    "    print(\"-------------------------\")\n",
    "    #obj.updateVersion()\n",
    "    StorageArray.updateVersion()"
   ]
  },
  {
   "cell_type": "code",
   "execution_count": null,
   "metadata": {},
   "outputs": [],
   "source": [
    "import paramiko\n",
    "\n",
    "\n",
    "class SSHHelper:\n",
    "    def __init__(self, ip, password, username='root', port=22):\n",
    "        print(\"Initializing the varibles\")\n",
    "        self.ip = ip\n",
    "        self.password = password\n",
    "        self.ssh_client = paramiko.SSHClient()\n",
    "        self.ssh_client.set_missing_host_key_policy(paramiko.AutoAddPolicy())\n",
    "        self.ssh_client.connect(ip, port, username, password)\n",
    "\n",
    "    def execute_command(self, cmd):\n",
    "        stdin, stdout, stderr = self.ssh_client.exec_command(cmd)\n",
    "        output = stdout.readlines()\n",
    "        self.output = (''.join(output))\n",
    "        return (self.output)\n",
    "\n",
    "    def write_file(self):\n",
    "        with open('outputfile.txt', 'a') as FH:\n",
    "            FH.write(self.output)\n",
    "\n",
    "\n",
    "if __name__ == \"__main__\":\n",
    "    ipAddr  = input(\"Enter the testbed you need to connect: \")\n",
    "    password = input(\"Enter the password pls: \")\n",
    "    Testbed = SSHHelper(ipAddr, password) # Here, Testbed1 is an \"object/instance\" variable of SSHHelper class\n",
    "    # print(type(Testbed))\n",
    "    cmd = input(\"Enter the output you need: \")\n",
    "    Testbed.execute_command(cmd)  # calling member function/method using object/instance\n",
    "    # SSHHelper.execute_command(Testbed1, cmd) # calling member function/method on class name.\n",
    "    Testbed.write_file()"
   ]
  },
  {
   "cell_type": "code",
   "execution_count": null,
   "metadata": {},
   "outputs": [],
   "source": [
    "li = range(6, 32, 3)\n",
    "print(li)\n",
    "\n",
    "#for i in li:\n",
    "#    print(i)\n",
    "\n",
    "try:\n",
    "    o = iter(li)\n",
    "    print(o)\n",
    "    #print(dir(o))\n",
    "    print(o.next())\n",
    "    print(o.next())\n",
    "    print(o.next())\n",
    "    print(o.next())\n",
    "    print(o.next())\n",
    "    print(o.next())\n",
    "    print(o.next())\n",
    "    print(o.next())\n",
    "    print(o.next())\n",
    "    print(o.next())\n",
    "except StopIteration as e:\n",
    "    pass\n",
    "except Exception as e:\n",
    "    pass"
   ]
  },
  {
   "cell_type": "code",
   "execution_count": 6,
   "metadata": {},
   "outputs": [
    {
     "name": "stdout",
     "output_type": "stream",
     "text": [
      "[[2, 4, 4, 6]]\n"
     ]
    }
   ],
   "source": [
    "x=[list(filter(lambda x:x%2==0, [1,2,4,3,4,5,6,7]))]\n",
    "print(x)"
   ]
  },
  {
   "cell_type": "code",
   "execution_count": 30,
   "metadata": {},
   "outputs": [
    {
     "name": "stdout",
     "output_type": "stream",
     "text": [
      "24000\n",
      "4\n"
     ]
    },
    {
     "ename": "AttributeError",
     "evalue": "module 'numpy' has no attribute 'arrange'",
     "output_type": "error",
     "traceback": [
      "\u001b[1;31m---------------------------------------------------------------------------\u001b[0m",
      "\u001b[1;31mAttributeError\u001b[0m                            Traceback (most recent call last)",
      "\u001b[1;32m<ipython-input-30-b6849008502e>\u001b[0m in \u001b[0;36m<module>\u001b[1;34m\u001b[0m\n\u001b[0;32m      5\u001b[0m \u001b[0mprint\u001b[0m\u001b[1;33m(\u001b[0m\u001b[0msys\u001b[0m\u001b[1;33m.\u001b[0m\u001b[0mgetsizeof\u001b[0m\u001b[1;33m(\u001b[0m\u001b[0mli\u001b[0m\u001b[1;33m[\u001b[0m\u001b[1;36m0\u001b[0m\u001b[1;33m]\u001b[0m\u001b[1;33m)\u001b[0m\u001b[1;33m*\u001b[0m\u001b[0mlen\u001b[0m\u001b[1;33m(\u001b[0m\u001b[0mli\u001b[0m\u001b[1;33m)\u001b[0m\u001b[1;33m)\u001b[0m\u001b[1;33m\u001b[0m\u001b[1;33m\u001b[0m\u001b[0m\n\u001b[0;32m      6\u001b[0m \u001b[0mprint\u001b[0m\u001b[1;33m(\u001b[0m\u001b[0mnp\u001b[0m\u001b[1;33m.\u001b[0m\u001b[0mrandom\u001b[0m\u001b[1;33m.\u001b[0m\u001b[0mrandint\u001b[0m\u001b[1;33m(\u001b[0m\u001b[1;36m5\u001b[0m\u001b[1;33m)\u001b[0m\u001b[1;33m)\u001b[0m\u001b[1;33m\u001b[0m\u001b[1;33m\u001b[0m\u001b[0m\n\u001b[1;32m----> 7\u001b[1;33m \u001b[0ma\u001b[0m\u001b[1;33m=\u001b[0m\u001b[0mnp\u001b[0m\u001b[1;33m.\u001b[0m\u001b[0marrange\u001b[0m\u001b[1;33m(\u001b[0m\u001b[1;36m1000\u001b[0m\u001b[1;33m)\u001b[0m\u001b[1;33m\u001b[0m\u001b[1;33m\u001b[0m\u001b[0m\n\u001b[0m\u001b[0;32m      8\u001b[0m \u001b[0mprint\u001b[0m\u001b[1;33m(\u001b[0m\u001b[0ma\u001b[0m\u001b[1;33m.\u001b[0m\u001b[0msize\u001b[0m\u001b[1;33m*\u001b[0m\u001b[0ma\u001b[0m\u001b[1;33m.\u001b[0m\u001b[0mitemsize\u001b[0m\u001b[1;33m)\u001b[0m\u001b[1;33m\u001b[0m\u001b[1;33m\u001b[0m\u001b[0m\n\u001b[0;32m      9\u001b[0m \u001b[1;33m\u001b[0m\u001b[0m\n",
      "\u001b[1;31mAttributeError\u001b[0m: module 'numpy' has no attribute 'arrange'"
     ]
    }
   ],
   "source": [
    "import numpy as np\n",
    "import time\n",
    "import sys\n",
    "li=range(1000)\n",
    "print(sys.getsizeof(li[0])*len(li))\n",
    "print(np.random.randint(5))\n",
    "a=np.arrange(1000)\n",
    "print(a.size*a.itemsize)\n",
    "\n",
    "\n"
   ]
  },
  {
   "cell_type": "code",
   "execution_count": 35,
   "metadata": {},
   "outputs": [
    {
     "name": "stdout",
     "output_type": "stream",
     "text": [
      "0    12\n",
      "1    13\n",
      "2    14\n",
      "3    15\n",
      "4    90\n",
      "5    91\n",
      "dtype: int64\n"
     ]
    }
   ],
   "source": [
    "import pandas as pd\n",
    "ser=pd.Series([12,13,14,15,90,91])\n",
    "print(ser)"
   ]
  }
 ],
 "metadata": {
  "kernelspec": {
   "display_name": "Python 3",
   "language": "python",
   "name": "python3"
  },
  "language_info": {
   "codemirror_mode": {
    "name": "ipython",
    "version": 3
   },
   "file_extension": ".py",
   "mimetype": "text/x-python",
   "name": "python",
   "nbconvert_exporter": "python",
   "pygments_lexer": "ipython3",
   "version": "3.6.5"
  }
 },
 "nbformat": 4,
 "nbformat_minor": 4
}
