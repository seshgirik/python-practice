{
 "cells": [
  {
   "cell_type": "code",
   "execution_count": 18,
   "metadata": {},
   "outputs": [
    {
     "name": "stdout",
     "output_type": "stream",
     "text": [
      "[4, 5, 6, 7, 8, 9]\n",
      "5\n",
      "7\n",
      "11\n",
      "13\n",
      "17\n",
      "19\n",
      "23\n",
      "29\n",
      "31\n",
      "37\n",
      "41\n",
      "43\n",
      "47\n",
      "53\n",
      "59\n",
      "61\n",
      "67\n",
      "71\n",
      "73\n",
      "79\n",
      "83\n",
      "89\n",
      "97\n"
     ]
    }
   ],
   "source": [
    "squares = list(filter(lambda x: x>3, range(10)))\n",
    "print (squares)\n",
    "sorted(squares,reverse=True)\n",
    "\n",
    "\n",
    "for num in range(1,100):\n",
    "    flag=1\n",
    "    for i in range(2,num-1):\n",
    "        flag=0\n",
    "        if num%i==0:\n",
    "            flag=1\n",
    "            break\n",
    "       \n",
    "    if  flag==0:\n",
    "        print(num)\n",
    "    "
   ]
  },
  {
   "cell_type": "code",
   "execution_count": 79,
   "metadata": {},
   "outputs": [
    {
     "data": {
      "text/plain": [
       "[1, 2, 3, 'one']"
      ]
     },
     "execution_count": 79,
     "metadata": {},
     "output_type": "execute_result"
    }
   ],
   "source": [
    "[1,2,3]+ [ \"one\"]"
   ]
  },
  {
   "cell_type": "code",
   "execution_count": 81,
   "metadata": {},
   "outputs": [
    {
     "data": {
      "text/plain": [
       "[4, 5, 6, 8, 10, 12, 12, 15, 18]"
      ]
     },
     "execution_count": 81,
     "metadata": {},
     "output_type": "execute_result"
    }
   ],
   "source": [
    "[x*y for x in [1,2,3] for y in [4,5,6]  ]"
   ]
  },
  {
   "cell_type": "code",
   "execution_count": 82,
   "metadata": {},
   "outputs": [],
   "source": [
    "s= {1}\n",
    "L= [1]"
   ]
  },
  {
   "cell_type": "code",
   "execution_count": 105,
   "metadata": {},
   "outputs": [
    {
     "data": {
      "text/plain": [
       "[('A', 1),\n",
       " ('A', 2),\n",
       " ('A', 3),\n",
       " ('A', 4),\n",
       " ('B', 1),\n",
       " ('B', 2),\n",
       " ('B', 3),\n",
       " ('B', 4),\n",
       " ('C', 1),\n",
       " ('C', 2),\n",
       " ('C', 3),\n",
       " ('C', 4)]"
      ]
     },
     "execution_count": 105,
     "metadata": {},
     "output_type": "execute_result"
    }
   ],
   "source": [
    "list((x,y) for x in ['A','B','C'] for y in [1,2,3,4] )"
   ]
  },
  {
   "cell_type": "code",
   "execution_count": 124,
   "metadata": {},
   "outputs": [
    {
     "data": {
      "text/plain": [
       "[4, 3, 2, 1]"
      ]
     },
     "execution_count": 124,
     "metadata": {},
     "output_type": "execute_result"
    }
   ],
   "source": [
    "s=[1,2,3,4]\n",
    "s[0]\n",
    "s[::1]\n",
    "s[::2]\n",
    "s[::-1]\n",
    "s[3::-1]"
   ]
  },
  {
   "cell_type": "code",
   "execution_count": null,
   "metadata": {},
   "outputs": [],
   "source": []
  },
  {
   "cell_type": "code",
   "execution_count": 137,
   "metadata": {},
   "outputs": [
    {
     "name": "stdout",
     "output_type": "stream",
     "text": [
      "<class 'int'>\n",
      "<class 'tuple'>\n"
     ]
    }
   ],
   "source": [
    "s=(11)\n",
    "print(type(s))\n",
    "\n",
    "s=(11,)\n",
    "print(type(s))\n"
   ]
  },
  {
   "cell_type": "code",
   "execution_count": 138,
   "metadata": {},
   "outputs": [
    {
     "data": {
      "text/plain": [
       "2"
      ]
     },
     "execution_count": 138,
     "metadata": {},
     "output_type": "execute_result"
    }
   ],
   "source": [
    "my_data4 = ((2,3,4),(1,2,\"hi\"))\n",
    "len(my_data4)\n",
    "\n"
   ]
  },
  {
   "cell_type": "code",
   "execution_count": 155,
   "metadata": {},
   "outputs": [
    {
     "name": "stdout",
     "output_type": "stream",
     "text": [
      "(2, 'hello', [2, 3, 4])\n"
     ]
    }
   ],
   "source": [
    "t = ( 2, \"hello\" , [2,3,4])\n",
    "#t[0]=1  #fails becoz tuple can't be changed \n",
    "#t[2].update(10)# works becoz \n",
    "print (t)"
   ]
  },
  {
   "cell_type": "code",
   "execution_count": 11,
   "metadata": {},
   "outputs": [
    {
     "name": "stdout",
     "output_type": "stream",
     "text": [
      "<built-in method values of dict object at 0x0000000005B032C8>\n",
      "{1: 2, 2: {1, 2, 3}, 3: 'hello', 4: (4, 3, 5), 5: 89.0}\n",
      "dict_items([(1, 2), (2, {1, 2, 3}), (3, 'hello'), (4, (4, 3, 5)), (5, 89.0)])\n",
      "1\n",
      "2\n",
      "2\n",
      "{1, 2, 3}\n",
      "3\n",
      "hello\n",
      "4\n",
      "(4, 3, 5)\n",
      "5\n",
      "89.0\n"
     ]
    }
   ],
   "source": [
    "mydisc={1:2, 2:{1,2,3} , 3: \"hello\" , 4:(4,3,5),5:89.0}\n",
    "mydisc.keys()\n",
    "len(mydisc)\n",
    "print (mydisc.values)\n",
    "print (mydisc)\n",
    "\n",
    "print (mydisc.items())\n",
    "\n",
    "for key,value in mydisc.items():\n",
    "    print(key)\n",
    "    print(value)"
   ]
  },
  {
   "cell_type": "code",
   "execution_count": 12,
   "metadata": {},
   "outputs": [
    {
     "ename": "TypeError",
     "evalue": "cannot convert dictionary update sequence element #0 to a sequence",
     "output_type": "error",
     "traceback": [
      "\u001b[1;31m---------------------------------------------------------------------------\u001b[0m",
      "\u001b[1;31mTypeError\u001b[0m                                 Traceback (most recent call last)",
      "\u001b[1;32m<ipython-input-12-bfeeccd463eb>\u001b[0m in \u001b[0;36m<module>\u001b[1;34m\u001b[0m\n\u001b[0;32m      3\u001b[0m \u001b[0mlist\u001b[0m\u001b[1;33m(\u001b[0m\u001b[0mset\u001b[0m\u001b[1;33m(\u001b[0m\u001b[0ml\u001b[0m\u001b[1;33m)\u001b[0m\u001b[1;33m)\u001b[0m\u001b[1;33m\u001b[0m\u001b[1;33m\u001b[0m\u001b[0m\n\u001b[0;32m      4\u001b[0m \u001b[0mtuple\u001b[0m\u001b[1;33m(\u001b[0m\u001b[0ml\u001b[0m\u001b[1;33m)\u001b[0m\u001b[1;33m\u001b[0m\u001b[1;33m\u001b[0m\u001b[0m\n\u001b[1;32m----> 5\u001b[1;33m \u001b[0mdict\u001b[0m\u001b[1;33m(\u001b[0m\u001b[0ml\u001b[0m\u001b[1;33m)\u001b[0m\u001b[1;33m\u001b[0m\u001b[1;33m\u001b[0m\u001b[0m\n\u001b[0m",
      "\u001b[1;31mTypeError\u001b[0m: cannot convert dictionary update sequence element #0 to a sequence"
     ]
    }
   ],
   "source": [
    "l = [1,2,3,4,4,4]\n",
    "set(l)\n",
    "list(set(l))\n",
    "tuple(l)\n",
    "dict(l)"
   ]
  },
  {
   "cell_type": "code",
   "execution_count": 21,
   "metadata": {},
   "outputs": [
    {
     "data": {
      "text/plain": [
       "True"
      ]
     },
     "execution_count": 21,
     "metadata": {},
     "output_type": "execute_result"
    }
   ],
   "source": [
    "bool(1)"
   ]
  },
  {
   "cell_type": "code",
   "execution_count": 23,
   "metadata": {},
   "outputs": [
    {
     "data": {
      "text/plain": [
       "[1, 4, 9, 16, 25]"
      ]
     },
     "execution_count": 23,
     "metadata": {},
     "output_type": "execute_result"
    }
   ],
   "source": [
    "list(map(lambda x:x*x,[1,2,3,4,5]))"
   ]
  },
  {
   "cell_type": "code",
   "execution_count": 25,
   "metadata": {},
   "outputs": [
    {
     "data": {
      "text/plain": [
       "[(2, 1), (1, 2), (2, 3), (4, 4), (2, 5)]"
      ]
     },
     "execution_count": 25,
     "metadata": {},
     "output_type": "execute_result"
    }
   ],
   "source": [
    "l=[(2, 5), (1, 2), (4, 4), (2, 3), (2, 1)]\n",
    "sorted(l,key=lambda x:x[1])\n"
   ]
  },
  {
   "cell_type": "code",
   "execution_count": 35,
   "metadata": {},
   "outputs": [
    {
     "data": {
      "text/plain": [
       "[(2, 1), (1, 2), (2, 3), (4, 4), (2, 5)]"
      ]
     },
     "execution_count": 35,
     "metadata": {},
     "output_type": "execute_result"
    }
   ],
   "source": [
    "import operator\n",
    "\n",
    "l=[(2, 5), (1, 2), (4, 4), (2, 3), (2, 1)]\n",
    "sorted(l,key=operator.itemgetter(0))\n",
    "sorted(l,key=operator.itemgetter(1))\n"
   ]
  },
  {
   "cell_type": "code",
   "execution_count": 51,
   "metadata": {},
   "outputs": [
    {
     "data": {
      "text/plain": [
       "[<__main__.account at 0x72e2c08>, <__main__.account at 0x72e29c8>]"
      ]
     },
     "execution_count": 51,
     "metadata": {},
     "output_type": "execute_result"
    }
   ],
   "source": [
    "import operator\n",
    "class account:\n",
    "    def __init__(self,name,no,bal):\n",
    "        self.name=name\n",
    "        self.no=no\n",
    "        self.bal=bal\n",
    "        \n",
    "    def transfer(self,account,amt):\n",
    "        self.bal=self.bal-amt\n",
    "        account.bal=account.bal+amt\n",
    "        \n",
    "ram=account('ram',95384,1000)\n",
    "ram.name\n",
    "sita=account('sita',95384,2000)\n",
    "sita.transfer(ram,1000)\n",
    "ram.bal\n",
    "sita.bal\n",
    "\n",
    "accountHolders=[ram,sita]\n",
    "sorted(accountHolders , key=operator.attrgetter('name'))\n",
    "        "
   ]
  },
  {
   "cell_type": "code",
   "execution_count": 55,
   "metadata": {},
   "outputs": [
    {
     "data": {
      "text/plain": [
       "[0, 9, 8, 7, 6, 5, 4, 3, 2, 1]"
      ]
     },
     "execution_count": 55,
     "metadata": {},
     "output_type": "execute_result"
    }
   ],
   "source": [
    "a=[1,2,3,4,5,6,7,8,9,0]\n",
    "a[::-1]\n",
    "a[::1]\n",
    "a[::-1]\n"
   ]
  },
  {
   "cell_type": "code",
   "execution_count": 58,
   "metadata": {},
   "outputs": [
    {
     "data": {
      "text/plain": [
       "'c'"
      ]
     },
     "execution_count": 58,
     "metadata": {},
     "output_type": "execute_result"
    }
   ],
   "source": [
    "x=['abc', 'xyz', 'aba', '1221']\n",
    "x[0][-1]\n"
   ]
  },
  {
   "cell_type": "code",
   "execution_count": 61,
   "metadata": {},
   "outputs": [],
   "source": [
    "import random\n",
    "random.random()\n",
    "random.shuffle(l)"
   ]
  },
  {
   "cell_type": "code",
   "execution_count": 70,
   "metadata": {},
   "outputs": [
    {
     "name": "stdout",
     "output_type": "stream",
     "text": [
      "['image00', 'welcome', 'image01', 'image10', 'image00', 'welcome', 'image01', 'image10']\n"
     ]
    }
   ],
   "source": [
    "#flatten list\n",
    "\n",
    "\n",
    "list_of_menuitems = [['image00',[[\"welcome\"]] ,'image01'], ['image10'], []]\n",
    "flat=[]\n",
    "def flatten(l):\n",
    "     for element in l:\n",
    "        if type(element)==list:\n",
    "            flatten(element)\n",
    "        else:\n",
    "            flat.append(element)\n",
    "flatten(list_of_menuitems)\n",
    "flatten(list_of_menuitems)\n",
    "\n",
    "print (flat)\n",
    "\n",
    "        "
   ]
  },
  {
   "cell_type": "code",
   "execution_count": 76,
   "metadata": {},
   "outputs": [
    {
     "name": "stdout",
     "output_type": "stream",
     "text": [
      "(1, 4)\n",
      "(2, 5)\n",
      "(3, 6)\n",
      "[]\n"
     ]
    }
   ],
   "source": [
    "x=zip([1,2,3],[4,5,6])\n",
    "for i in x:\n",
    "    print (i)\n",
    "print(list(x))"
   ]
  },
  {
   "cell_type": "code",
   "execution_count": 78,
   "metadata": {},
   "outputs": [
    {
     "ename": "TypeError",
     "evalue": "a number is required",
     "output_type": "error",
     "traceback": [
      "\u001b[1;31m---------------------------------------------------------------------------\u001b[0m",
      "\u001b[1;31mTypeError\u001b[0m                                 Traceback (most recent call last)",
      "\u001b[1;32m<ipython-input-78-99444aab3c5c>\u001b[0m in \u001b[0;36m<module>\u001b[1;34m\u001b[0m\n\u001b[0;32m      1\u001b[0m \u001b[1;32mimport\u001b[0m \u001b[0mitertools\u001b[0m\u001b[1;33m\u001b[0m\u001b[1;33m\u001b[0m\u001b[0m\n\u001b[0;32m      2\u001b[0m \u001b[1;33m\u001b[0m\u001b[0m\n\u001b[1;32m----> 3\u001b[1;33m \u001b[0mitertools\u001b[0m\u001b[1;33m.\u001b[0m\u001b[0mcount\u001b[0m\u001b[1;33m(\u001b[0m\u001b[1;36m1\u001b[0m\u001b[1;33m,\u001b[0m\u001b[1;33m[\u001b[0m\u001b[1;36m1\u001b[0m\u001b[1;33m,\u001b[0m\u001b[1;36m2\u001b[0m\u001b[1;33m,\u001b[0m\u001b[1;36m3\u001b[0m\u001b[1;33m,\u001b[0m\u001b[1;36m4\u001b[0m\u001b[1;33m]\u001b[0m\u001b[1;33m)\u001b[0m\u001b[1;33m\u001b[0m\u001b[1;33m\u001b[0m\u001b[0m\n\u001b[0m",
      "\u001b[1;31mTypeError\u001b[0m: a number is required"
     ]
    }
   ],
   "source": [
    "import itertools\n",
    "\n",
    "itertools.count(1,[1,2,3,4])"
   ]
  },
  {
   "cell_type": "code",
   "execution_count": 90,
   "metadata": {},
   "outputs": [
    {
     "name": "stdout",
     "output_type": "stream",
     "text": [
      "defaultdict(<class 'list'>, {'basu': ['name', 'comapny'], 'bgl': ['area', 'area1']})\n"
     ]
    }
   ],
   "source": [
    "\n",
    "import collections\n",
    "dict= {\"name\":\"basu\" , \"comapny\":\"basu\" , \"area\":\"bgl\" , \"area1\":\"bgl\"}\n",
    "\n",
    "revdict=collections.defaultdict(list)\n",
    "\n",
    "for key,value in dict.items():\n",
    "    revdict[value].append(key)\n",
    "\n",
    "print(revdict)\n"
   ]
  },
  {
   "cell_type": "code",
   "execution_count": 95,
   "metadata": {},
   "outputs": [
    {
     "name": "stdout",
     "output_type": "stream",
     "text": [
      "defaultdict(<class 'int'>, {'basu': 2, 'bgl': 2})\n"
     ]
    }
   ],
   "source": [
    "\n",
    "import collections\n",
    "dict= {\"name\":\"basu\" , \"comapny\":\"basu\" , \"area\":\"bgl\" , \"area1\":\"bgl\"}\n",
    "\n",
    "revdict=collections.defaultdict(int)\n",
    "\n",
    "for key,value in dict.items():\n",
    "    revdict[value]+=1\n",
    "\n",
    "print(revdict)\n",
    "revdict.get('ram')\n"
   ]
  },
  {
   "cell_type": "code",
   "execution_count": 102,
   "metadata": {},
   "outputs": [
    {
     "name": "stdout",
     "output_type": "stream",
     "text": [
      "False\n",
      "True\n",
      "False\n",
      "True\n",
      "False\n",
      "False\n",
      "False\n",
      "False\n",
      "True\n"
     ]
    }
   ],
   "source": [
    "if 0:\n",
    "    print(True)\n",
    "    \n",
    "if 0:\n",
    "    print(True)\n",
    "else: \n",
    "    print(False)\n",
    "    \n",
    "if 1:\n",
    "    print(True)\n",
    "else: \n",
    "    print(False)\n",
    "    \n",
    "if None:\n",
    "    print(True)\n",
    "else: \n",
    "    print(False)\n",
    "    \n",
    "if True:\n",
    "    print(True)\n",
    "else: \n",
    "    print(False)\n",
    "    \n",
    "if []:\n",
    "    print(True)\n",
    "else: \n",
    "    print(False)\n",
    "    \n",
    "if {}:\n",
    "    print(True)\n",
    "else: \n",
    "    print(False)\n",
    "    \n",
    "if ():\n",
    "    print(True)\n",
    "else: \n",
    "    print(False)\n",
    "    \n",
    "if \"\":\n",
    "    print(True)\n",
    "else: \n",
    "    print(False)\n",
    "    \n",
    "if \"x\":\n",
    "    print(True)\n",
    "else: \n",
    "    print(False)"
   ]
  },
  {
   "cell_type": "code",
   "execution_count": 120,
   "metadata": {},
   "outputs": [
    {
     "name": "stdout",
     "output_type": "stream",
     "text": [
      "False\n"
     ]
    }
   ],
   "source": [
    "if None:\n",
    "    print(True)\n",
    "else: \n",
    "    print(False)"
   ]
  },
  {
   "cell_type": "code",
   "execution_count": 108,
   "metadata": {},
   "outputs": [],
   "source": [
    "foo=\"\"\n",
    "foo=None\n",
    "if foo:\n",
    "    print(\"foo i none\")"
   ]
  },
  {
   "cell_type": "code",
   "execution_count": 114,
   "metadata": {},
   "outputs": [
    {
     "name": "stdout",
     "output_type": "stream",
     "text": [
      "['p', 'q', 0, 1, 2, 3, 4]\n"
     ]
    }
   ],
   "source": [
    "list1=['p', 'q']\n",
    "for i in range(5):\n",
    "    list1.extend(([i]))\n",
    "print(list1)"
   ]
  },
  {
   "cell_type": "code",
   "execution_count": 121,
   "metadata": {},
   "outputs": [
    {
     "name": "stdout",
     "output_type": "stream",
     "text": [
      "['p0', 'p1', 'p2', 'p3', 'p4']\n"
     ]
    }
   ],
   "source": [
    "emp=[]\n",
    "for i in range(5):\n",
    "    x=[list1[0]+str(i)]\n",
    "    emp.extend(x)\n",
    "print(emp)"
   ]
  },
  {
   "cell_type": "code",
   "execution_count": 124,
   "metadata": {},
   "outputs": [
    {
     "data": {
      "text/plain": [
       "['welcme', 'to', 'welness', 'and', 'well']"
      ]
     },
     "execution_count": 124,
     "metadata": {},
     "output_type": "execute_result"
    }
   ],
   "source": [
    "str1=\"welcme to welness and well\"\n",
    "str1.split()"
   ]
  },
  {
   "cell_type": "code",
   "execution_count": 131,
   "metadata": {},
   "outputs": [
    {
     "ename": "SyntaxError",
     "evalue": "invalid syntax (<ipython-input-131-84827fa5c33f>, line 6)",
     "output_type": "error",
     "traceback": [
      "\u001b[1;36m  File \u001b[1;32m\"<ipython-input-131-84827fa5c33f>\"\u001b[1;36m, line \u001b[1;32m6\u001b[0m\n\u001b[1;33m    set(list1) set(list2)\u001b[0m\n\u001b[1;37m                 ^\u001b[0m\n\u001b[1;31mSyntaxError\u001b[0m\u001b[1;31m:\u001b[0m invalid syntax\n"
     ]
    }
   ],
   "source": [
    "list1=['a','b','c','d','e','f']\n",
    "list2=['d','e','f','g','h']\n",
    "set(list1)&set(list2)\n",
    "set(list1)^set(list2)\n",
    "set(list1)&  set(list2)\n",
    "set(list1) set(list2)\n",
    "set(list1)  set(list2)\n",
    "set(list1) - set(list2)\n",
    "set(list2) - set(list1)"
   ]
  },
  {
   "cell_type": "code",
   "execution_count": 134,
   "metadata": {},
   "outputs": [
    {
     "data": {
      "text/plain": [
       "'xestaxt'"
      ]
     },
     "execution_count": 134,
     "metadata": {},
     "output_type": "execute_result"
    }
   ],
   "source": [
    "\"restart\".replace('r','x')\n"
   ]
  },
  {
   "cell_type": "code",
   "execution_count": 154,
   "metadata": {},
   "outputs": [
    {
     "data": {
      "text/plain": [
       "4"
      ]
     },
     "execution_count": 154,
     "metadata": {},
     "output_type": "execute_result"
    }
   ],
   "source": [
    "#\"welc3ome to python\".split().join(\"x\")\n",
    "\"x\".join(list(\"welcome\"))\n",
    "l=list(\"welcome\")\n",
    "l.index('o')"
   ]
  },
  {
   "cell_type": "code",
   "execution_count": 238,
   "metadata": {},
   "outputs": [
    {
     "name": "stdout",
     "output_type": "stream",
     "text": [
      "['(', '{', '(', ')', '}', ')']\n",
      "(\n",
      "0\n",
      "1\n",
      "{\n",
      "1\n",
      "0\n",
      "(\n",
      "2\n",
      "1\n",
      "matched\n",
      "['{', '(', ')', ')']\n",
      ")\n",
      "3\n"
     ]
    },
    {
     "ename": "ValueError",
     "evalue": "')' is not in list",
     "output_type": "error",
     "traceback": [
      "\u001b[1;31m---------------------------------------------------------------------------\u001b[0m",
      "\u001b[1;31mValueError\u001b[0m                                Traceback (most recent call last)",
      "\u001b[1;32m<ipython-input-238-d056f90ef62f>\u001b[0m in \u001b[0;36m<module>\u001b[1;34m\u001b[0m\n\u001b[0;32m     19\u001b[0m \u001b[0mparan1\u001b[0m\u001b[1;33m=\u001b[0m\u001b[0mparan\u001b[0m\u001b[1;33m\u001b[0m\u001b[1;33m\u001b[0m\u001b[0m\n\u001b[0;32m     20\u001b[0m \u001b[0mprint\u001b[0m\u001b[1;33m(\u001b[0m\u001b[0mparan\u001b[0m\u001b[1;33m)\u001b[0m\u001b[1;33m\u001b[0m\u001b[1;33m\u001b[0m\u001b[0m\n\u001b[1;32m---> 21\u001b[1;33m \u001b[0mtestParan\u001b[0m\u001b[1;33m(\u001b[0m\u001b[0mparan\u001b[0m\u001b[1;33m)\u001b[0m\u001b[1;33m\u001b[0m\u001b[1;33m\u001b[0m\u001b[0m\n\u001b[0m\u001b[0;32m     22\u001b[0m \u001b[1;33m\u001b[0m\u001b[0m\n\u001b[0;32m     23\u001b[0m \u001b[1;33m\u001b[0m\u001b[0m\n",
      "\u001b[1;32m<ipython-input-238-d056f90ef62f>\u001b[0m in \u001b[0;36mtestParan\u001b[1;34m(list1)\u001b[0m\n\u001b[0;32m      6\u001b[0m         \u001b[0mprint\u001b[0m\u001b[1;33m(\u001b[0m\u001b[0melement\u001b[0m\u001b[1;33m)\u001b[0m\u001b[1;33m\u001b[0m\u001b[1;33m\u001b[0m\u001b[0m\n\u001b[0;32m      7\u001b[0m         \u001b[0mprint\u001b[0m\u001b[1;33m(\u001b[0m\u001b[0mindex\u001b[0m\u001b[1;33m)\u001b[0m\u001b[1;33m\u001b[0m\u001b[1;33m\u001b[0m\u001b[0m\n\u001b[1;32m----> 8\u001b[1;33m         \u001b[0mprint\u001b[0m\u001b[1;33m(\u001b[0m\u001b[0mopen1\u001b[0m\u001b[1;33m.\u001b[0m\u001b[0mindex\u001b[0m\u001b[1;33m(\u001b[0m\u001b[0melement\u001b[0m\u001b[1;33m)\u001b[0m\u001b[1;33m)\u001b[0m\u001b[1;33m\u001b[0m\u001b[1;33m\u001b[0m\u001b[0m\n\u001b[0m\u001b[0;32m      9\u001b[0m         \u001b[1;32mif\u001b[0m \u001b[0mlist1\u001b[0m\u001b[1;33m[\u001b[0m\u001b[0mindex\u001b[0m\u001b[1;33m+\u001b[0m\u001b[1;36m1\u001b[0m\u001b[1;33m]\u001b[0m\u001b[1;33m==\u001b[0m\u001b[0mclose1\u001b[0m\u001b[1;33m[\u001b[0m\u001b[0mopen1\u001b[0m\u001b[1;33m.\u001b[0m\u001b[0mindex\u001b[0m\u001b[1;33m(\u001b[0m\u001b[0melement\u001b[0m\u001b[1;33m)\u001b[0m\u001b[1;33m]\u001b[0m\u001b[1;33m:\u001b[0m\u001b[1;33m\u001b[0m\u001b[1;33m\u001b[0m\u001b[0m\n\u001b[0;32m     10\u001b[0m             \u001b[0mprint\u001b[0m \u001b[1;33m(\u001b[0m\u001b[1;34m\"matched\"\u001b[0m\u001b[1;33m)\u001b[0m\u001b[1;33m\u001b[0m\u001b[1;33m\u001b[0m\u001b[0m\n",
      "\u001b[1;31mValueError\u001b[0m: ')' is not in list"
     ]
    }
   ],
   "source": [
    "\n",
    "def testParan(list1):\n",
    "    open1=['{','(' , '[']\n",
    "    close1=['}',')' , ']']\n",
    "\n",
    "    for index,element in enumerate(list1):\n",
    "        print(element)\n",
    "        print(index)\n",
    "        print(open1.index(element))\n",
    "        if list1[index+1]==close1[open1.index(element)]:\n",
    "            print (\"matched\")\n",
    "            paran1.remove(paran1[index])\n",
    "            paran1.remove(paran1[index+1])\n",
    "            print(paran1)\n",
    "\n",
    "        \n",
    "       \n",
    "\n",
    "paran = list(\"({()})\")\n",
    "paran1=paran\n",
    "print(paran)\n",
    "testParan(paran)\n",
    "\n",
    "\n"
   ]
  },
  {
   "cell_type": "code",
   "execution_count": null,
   "metadata": {},
   "outputs": [],
   "source": [
    "from collections import deque\n",
    "\n",
    "\n",
    "#Implementation using collections.deque Python stack can be implemented using deque class from collections module. Deque is preferred over list in the cases where we need quicker append and pop operations from both the ends of the container, as deque provides an O(1) time complexity for append and pop operations as compared to list which provides O(n) time complexity. S\n",
    "\n",
    "#stack = deque()\n",
    "stack = []\n",
    "\n",
    "\n",
    "braces = list(\"({()})()[{}\")\n",
    "\n",
    "open1=['{','(' , '[' ]\n",
    "close1=['}',')' , ']']\n",
    "#print (close1[open1.index('{')])\n",
    "#print(braces)\n",
    "\n",
    "for element in braces:\n",
    "\n",
    "    obrace=open1[close1.index(element)] if element in close1 else None\n",
    "\n",
    "    if not stack:\n",
    "        #print('1st element')\n",
    "\n",
    "        stack.append(element)\n",
    "    elif obrace==stack[-1]:\n",
    "        #print('pop')\n",
    "        print(stack.pop())  #without this print , stack in not popped so this is mandatory\n",
    "        stack.pop\n",
    "        #print(stack)\n",
    "    else:\n",
    "        stack.append(element)\n",
    "    #print(stack)\n",
    "print(stack)    \n",
    "if not stack:\n",
    "    print(\"braces are fine , matched\" )\n",
    "else:\n",
    "    print(\"invalid braces\")\n",
    "\n",
    "\n",
    "\n"
   ]
  },
  {
   "cell_type": "code",
   "execution_count": 59,
   "metadata": {},
   "outputs": [
    {
     "ename": "AttributeError",
     "evalue": "'NoneType' object has no attribute 'next'",
     "output_type": "error",
     "traceback": [
      "\u001b[1;31m---------------------------------------------------------------------------\u001b[0m",
      "\u001b[1;31mAttributeError\u001b[0m                            Traceback (most recent call last)",
      "\u001b[1;32m<ipython-input-59-c5c31d067cf8>\u001b[0m in \u001b[0;36m<module>\u001b[1;34m\u001b[0m\n\u001b[0;32m     72\u001b[0m \u001b[1;33m\u001b[0m\u001b[0m\n\u001b[0;32m     73\u001b[0m \u001b[0mdelete\u001b[0m\u001b[1;33m(\u001b[0m\u001b[1;36m2\u001b[0m\u001b[1;33m)\u001b[0m\u001b[1;33m\u001b[0m\u001b[1;33m\u001b[0m\u001b[0m\n\u001b[1;32m---> 74\u001b[1;33m \u001b[0mdelete\u001b[0m\u001b[1;33m(\u001b[0m\u001b[1;36m3\u001b[0m\u001b[1;33m)\u001b[0m\u001b[1;33m\u001b[0m\u001b[1;33m\u001b[0m\u001b[0m\n\u001b[0m\u001b[0;32m     75\u001b[0m \u001b[0mdelete\u001b[0m\u001b[1;33m(\u001b[0m\u001b[1;33m)\u001b[0m\u001b[1;33m\u001b[0m\u001b[1;33m\u001b[0m\u001b[0m\n\u001b[0;32m     76\u001b[0m \u001b[1;33m\u001b[0m\u001b[0m\n",
      "\u001b[1;32m<ipython-input-59-c5c31d067cf8>\u001b[0m in \u001b[0;36mdelete\u001b[1;34m(index)\u001b[0m\n\u001b[0;32m     41\u001b[0m             \u001b[0mprevNode\u001b[0m\u001b[1;33m=\u001b[0m\u001b[0mdelNode\u001b[0m\u001b[1;33m\u001b[0m\u001b[1;33m\u001b[0m\u001b[0m\n\u001b[0;32m     42\u001b[0m             \u001b[0mdelNode\u001b[0m\u001b[1;33m=\u001b[0m\u001b[0mdelNode\u001b[0m\u001b[1;33m.\u001b[0m\u001b[0mnext\u001b[0m\u001b[1;33m\u001b[0m\u001b[1;33m\u001b[0m\u001b[0m\n\u001b[1;32m---> 43\u001b[1;33m         \u001b[0mtemp\u001b[0m\u001b[1;33m=\u001b[0m\u001b[0mdelNode\u001b[0m\u001b[1;33m.\u001b[0m\u001b[0mnext\u001b[0m\u001b[1;33m\u001b[0m\u001b[1;33m\u001b[0m\u001b[0m\n\u001b[0m\u001b[0;32m     44\u001b[0m         \u001b[1;32mdel\u001b[0m \u001b[0mdelNode\u001b[0m\u001b[1;33m\u001b[0m\u001b[1;33m\u001b[0m\u001b[0m\n\u001b[0;32m     45\u001b[0m         \u001b[0mprevNode\u001b[0m\u001b[1;33m.\u001b[0m\u001b[0mnext\u001b[0m\u001b[1;33m=\u001b[0m\u001b[0mtemp\u001b[0m\u001b[1;33m\u001b[0m\u001b[1;33m\u001b[0m\u001b[0m\n",
      "\u001b[1;31mAttributeError\u001b[0m: 'NoneType' object has no attribute 'next'"
     ]
    }
   ],
   "source": [
    "#linked list\n",
    "\n",
    "Head=None\n",
    "class addNode:\n",
    "    def __init__(self,data):\n",
    "        self.data=data\n",
    "        self.next=None\n",
    "        \n",
    "       \n",
    "def insert(data,position=None):\n",
    "    global Head,prevNode\n",
    "    if Head is None:\n",
    "        Head = addNode(data)\n",
    "        prevNode=Head\n",
    "        \n",
    "    elif position is not None:\n",
    "        #print(position)\n",
    "        insertNode=Head\n",
    "        for node in range(position):\n",
    "            #print(node)\n",
    "            insertNode=insertNode.next if insertNode.next is not None else insertNode\n",
    "        curNode= addNode(data)\n",
    "        temp=insertNode.next\n",
    "        insertNode.next=curNode\n",
    "        curNode.next=temp\n",
    "        \n",
    "    else:\n",
    "        curNode= addNode(data)\n",
    "        prevNode.next=curNode\n",
    "        prevNode=curNode\n",
    "\n",
    "def delete(index=None):\n",
    "    if index is None:\n",
    "        global Head,prevNode\n",
    "        temp=Head.next\n",
    "        del Head\n",
    "        Head=temp\n",
    "    else:\n",
    "        delNode=Head\n",
    "        for node in range(index):\n",
    "            prevNode=delNode\n",
    "            delNode=delNode.next\n",
    "        temp=delNode.next\n",
    "        del delNode\n",
    "        prevNode.next=temp\n",
    "\n",
    "        \n",
    "\n",
    "def travel():\n",
    "    global Head,prevNode\n",
    "    Traverse=Head\n",
    "\n",
    "    while True:\n",
    "        #print(\"travel\")\n",
    "        print(Traverse.data)\n",
    "        Traverse=Traverse.next\n",
    "        if Traverse.next is None:\n",
    "            print(Traverse.data)\n",
    "            break\n",
    "    \n",
    "    \n",
    "#insert(10)\n",
    "#insert(100)\n",
    "#insert(200)\n",
    "#insert(300)\n",
    "insert(0,0)\n",
    "#travel()\n",
    "\n",
    "insert(1,1)\n",
    "insert(1,4)\n",
    "insert(3,3)\n",
    "\n",
    "delete(2)\n",
    "delete(3)\n",
    "delete()\n",
    "\n",
    "\n",
    "\n",
    "\n",
    "travel()\n",
    "#travel()\n",
    "\n",
    "     \n",
    "        "
   ]
  },
  {
   "cell_type": "code",
   "execution_count": 52,
   "metadata": {},
   "outputs": [
    {
     "name": "stdout",
     "output_type": "stream",
     "text": [
      "0\n"
     ]
    }
   ],
   "source": [
    "for i in range(1):\n",
    "    print(i)"
   ]
  }
 ],
 "metadata": {
  "kernelspec": {
   "display_name": "Python 3",
   "language": "python",
   "name": "python3"
  },
  "language_info": {
   "codemirror_mode": {
    "name": "ipython",
    "version": 3
   },
   "file_extension": ".py",
   "mimetype": "text/x-python",
   "name": "python",
   "nbconvert_exporter": "python",
   "pygments_lexer": "ipython3",
   "version": "3.7.4"
  }
 },
 "nbformat": 4,
 "nbformat_minor": 4
}
